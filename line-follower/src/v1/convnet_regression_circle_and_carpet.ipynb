{
 "cells": [
  {
   "cell_type": "markdown",
   "metadata": {},
   "source": [
    "# Line Follower - CompRobo17"
   ]
  },
  {
   "cell_type": "markdown",
   "metadata": {},
   "source": [
    "This notebook will show the general procedure to use our project data directories and how to do a regression task using convnets"
   ]
  },
  {
   "cell_type": "markdown",
   "metadata": {},
   "source": [
    "## Imports and Directories"
   ]
  },
  {
   "cell_type": "code",
   "execution_count": 1,
   "metadata": {
    "collapsed": false
   },
   "outputs": [],
   "source": [
    "#Create references to important directories we will use over and over\n",
    "import os, sys"
   ]
  },
  {
   "cell_type": "code",
   "execution_count": 2,
   "metadata": {
    "collapsed": false
   },
   "outputs": [
    {
     "name": "stderr",
     "output_type": "stream",
     "text": [
      "Using TensorFlow backend.\n"
     ]
    }
   ],
   "source": [
    "#import modules\n",
    "import numpy as np\n",
    "from glob import glob\n",
    "from PIL import Image\n",
    "from tqdm import tqdm\n",
    "from scipy.ndimage import zoom\n",
    "\n",
    "from keras.models import Sequential\n",
    "from keras.metrics import categorical_crossentropy, categorical_accuracy\n",
    "from keras.layers.convolutional import *\n",
    "from keras.preprocessing import image\n",
    "from keras.layers.core import Flatten, Dense\n",
    "from keras.optimizers import Adam\n",
    "from keras.layers.normalization import BatchNormalization\n",
    "\n",
    "from matplotlib import pyplot as plt\n",
    "import seaborn as sns\n",
    "%matplotlib inline"
   ]
  },
  {
   "cell_type": "code",
   "execution_count": 3,
   "metadata": {
    "collapsed": true
   },
   "outputs": [],
   "source": [
    "import bcolz"
   ]
  },
  {
   "cell_type": "markdown",
   "metadata": {},
   "source": [
    "Create paths to data directories"
   ]
  },
  {
   "cell_type": "code",
   "execution_count": 4,
   "metadata": {
    "collapsed": false
   },
   "outputs": [
    {
     "name": "stdout",
     "output_type": "stream",
     "text": [
      "/home/nathan/olin/spring2017/line-follower/line-follower/data\n"
     ]
    }
   ],
   "source": [
    "DATA_HOME_DIR = '/home/nathan/olin/spring2017/line-follower/line-follower/data'\n",
    "%cd $DATA_HOME_DIR\n",
    "\n",
    "path = DATA_HOME_DIR\n",
    "train_path1=path + '/sun_apr_16_office_full_line_1'\n",
    "train_path2=path + '/qea_blob_1'\n",
    "valid_path1=path + '/qea-square_3'"
   ]
  },
  {
   "cell_type": "markdown",
   "metadata": {},
   "source": [
    "## Helper Functions"
   ]
  },
  {
   "cell_type": "markdown",
   "metadata": {},
   "source": [
    "Throughout the notebook, we will take advantage of helper functions to cleanly process our data."
   ]
  },
  {
   "cell_type": "code",
   "execution_count": 5,
   "metadata": {
    "collapsed": false
   },
   "outputs": [],
   "source": [
    "def resize_vectorized4D(data, new_size=(64, 64)):\n",
    "    \"\"\"\n",
    "    A vectorized implementation of 4d image resizing\n",
    "    \n",
    "    Args:\n",
    "        data (4D array): The images you want to resize\n",
    "        new_size (tuple): The desired image size\n",
    "        \n",
    "    Returns: (4D array): The resized images\n",
    "    \"\"\"\n",
    "    fy, fx = np.asarray(new_size, np.float32) / data.shape[1:3]\n",
    "    return zoom(data, (1, fy, fx, 1), order=1) # order is the order of spline interpolation"
   ]
  },
  {
   "cell_type": "code",
   "execution_count": 6,
   "metadata": {
    "collapsed": true
   },
   "outputs": [],
   "source": [
    "def lowerHalfImage(array):\n",
    "    \"\"\" \n",
    "    Returns the lower half rows of an image\n",
    "    \n",
    "    Args: array (array): the array you want to extract the lower half from\n",
    "    \n",
    "    Returns: The lower half of the array\n",
    "    \"\"\"\n",
    "    return array[round(array.shape[0]/2):,:,:]"
   ]
  },
  {
   "cell_type": "code",
   "execution_count": 7,
   "metadata": {
    "collapsed": true
   },
   "outputs": [],
   "source": [
    "def folder_to_numpy(image_directory_full):\n",
    "    \"\"\"\n",
    "    Read sorted pictures (by filename) in a folder to a numpy array. \n",
    "    We have hardcoded the extraction of the lower half of the images as\n",
    "    that is the relevant data\n",
    "    \n",
    "    USAGE:\n",
    "        data_folder = '/train/test1'\n",
    "        X_train = folder_to_numpy(data_folder)\n",
    "    \n",
    "    Args:\n",
    "        data_folder (str): The relative folder from DATA_HOME_DIR\n",
    "        \n",
    "    Returns:\n",
    "        picture_array (np array): The numpy array in tensorflow format\n",
    "    \"\"\"\n",
    "    # change directory\n",
    "    print (\"Moving to directory: \" + image_directory_full)\n",
    "    os.chdir(image_directory_full)\n",
    "    \n",
    "    # read in filenames from directory\n",
    "    g = glob('*.png')\n",
    "    if len(g) == 0:\n",
    "        g = glob('*.jpg')\n",
    "    print (\"Found {} pictures\".format(len(g)))\n",
    "    \n",
    "    # sort filenames\n",
    "    g.sort()\n",
    "    \n",
    "    # open and convert images to numpy array - then extract the lower half of each image\n",
    "    print(\"Starting pictures to numpy conversion\")\n",
    "    picture_arrays = np.array([lowerHalfImage(np.array(Image.open(image_path))) for image_path in g])\n",
    "    \n",
    "#     reshape to tensorflow format\n",
    "#     picture_arrays = picture_arrays.reshape(*picture_arrays.shape, 1)\n",
    "    print (\"Shape of output: {}\".format(picture_arrays.shape))\n",
    "    \n",
    "    # return array\n",
    "    return picture_arrays\n",
    "    return picture_arrays.astype('float32')"
   ]
  },
  {
   "cell_type": "code",
   "execution_count": 8,
   "metadata": {
    "collapsed": false
   },
   "outputs": [],
   "source": [
    "def flip4DArray(array):\n",
    "    \"\"\" Produces the mirror images of a 4D image array \"\"\"\n",
    "    return array[..., ::-1,:] #[:,:,::-1] also works but is 50% slower"
   ]
  },
  {
   "cell_type": "code",
   "execution_count": 9,
   "metadata": {
    "collapsed": true
   },
   "outputs": [],
   "source": [
    "def concatCmdVelFlip(array):\n",
    "    \"\"\" Concatentaes and returns Cmd Vel array \"\"\"\n",
    "    return np.concatenate((array, array*-1)) # multiply by negative 1 for opposite turn"
   ]
  },
  {
   "cell_type": "code",
   "execution_count": 10,
   "metadata": {
    "collapsed": true
   },
   "outputs": [],
   "source": [
    "def save_array(fname, arr):\n",
    "    c=bcolz.carray(arr, rootdir=fname, mode='w')\n",
    "    c.flush()"
   ]
  },
  {
   "cell_type": "code",
   "execution_count": 11,
   "metadata": {
    "collapsed": true
   },
   "outputs": [],
   "source": [
    "def load_array(fname):\n",
    "    return bcolz.open(fname)[:]"
   ]
  },
  {
   "cell_type": "markdown",
   "metadata": {},
   "source": [
    "## Data"
   ]
  },
  {
   "cell_type": "markdown",
   "metadata": {},
   "source": [
    "Because we are using a CNN and unordered pictures, we can flip our data and concatenate it on the end of all training and validation data to make sure we don't bias left or right turns."
   ]
  },
  {
   "cell_type": "markdown",
   "metadata": {},
   "source": [
    "### Training Data"
   ]
  },
  {
   "cell_type": "markdown",
   "metadata": {},
   "source": [
    "Extract and store the training data in X_train and Y_train"
   ]
  },
  {
   "cell_type": "code",
   "execution_count": 12,
   "metadata": {
    "collapsed": false
   },
   "outputs": [],
   "source": [
    "def get_data(paths):\n",
    "    X_return = []\n",
    "    Y_return = []\n",
    "    for path in paths:\n",
    "        %cd $path\n",
    "        Y_train = np.genfromtxt('cmd_vel.csv', delimiter=',')[:,1] # only use turning angle\n",
    "        Y_train = np.concatenate((Y_train, Y_train*-1))\n",
    "        X_train = folder_to_numpy(path + '/raw')\n",
    "        X_train = np.concatenate((X_train, flip4DArray(X_train)))\n",
    "        X_return.extend(X_train)\n",
    "        Y_return.extend(Y_train)\n",
    "    return np.array(X_return), np.array(Y_return)"
   ]
  },
  {
   "cell_type": "code",
   "execution_count": 13,
   "metadata": {
    "collapsed": false
   },
   "outputs": [
    {
     "name": "stdout",
     "output_type": "stream",
     "text": [
      "/home/nathan/olin/spring2017/line-follower/line-follower/data/sun_apr_16_office_full_line_1\n",
      "Moving to directory: /home/nathan/olin/spring2017/line-follower/line-follower/data/sun_apr_16_office_full_line_1/raw\n",
      "Found 286 pictures\n",
      "Starting pictures to numpy conversion\n",
      "Shape of output: (286, 240, 640, 3)\n",
      "/home/nathan/olin/spring2017/line-follower/line-follower/data/qea_blob_1\n",
      "Moving to directory: /home/nathan/olin/spring2017/line-follower/line-follower/data/qea_blob_1/raw\n",
      "Found 370 pictures\n",
      "Starting pictures to numpy conversion\n",
      "Shape of output: (370, 240, 640, 3)\n"
     ]
    }
   ],
   "source": [
    "X_train, Y_train = get_data([train_path1, train_path2])"
   ]
  },
  {
   "cell_type": "code",
   "execution_count": 14,
   "metadata": {
    "collapsed": false
   },
   "outputs": [
    {
     "data": {
      "text/plain": [
       "(1312, 240, 640, 3)"
      ]
     },
     "execution_count": 14,
     "metadata": {},
     "output_type": "execute_result"
    }
   ],
   "source": [
    "X_train.shape"
   ]
  },
  {
   "cell_type": "code",
   "execution_count": 15,
   "metadata": {
    "collapsed": false
   },
   "outputs": [
    {
     "name": "stdout",
     "output_type": "stream",
     "text": [
      "/home/nathan/olin/spring2017/line-follower/line-follower/data/qea-square_3\n",
      "Moving to directory: /home/nathan/olin/spring2017/line-follower/line-follower/data/qea-square_3/raw\n",
      "Found 95 pictures\n",
      "Starting pictures to numpy conversion\n",
      "Shape of output: (95, 240, 640, 3)\n"
     ]
    }
   ],
   "source": [
    "X_valid, Y_valid = get_data([valid_path1])"
   ]
  },
  {
   "cell_type": "code",
   "execution_count": 16,
   "metadata": {
    "collapsed": false
   },
   "outputs": [
    {
     "data": {
      "text/plain": [
       "(190, 240, 640, 3)"
      ]
     },
     "execution_count": 16,
     "metadata": {},
     "output_type": "execute_result"
    }
   ],
   "source": [
    "X_valid.shape"
   ]
  },
  {
   "cell_type": "code",
   "execution_count": 17,
   "metadata": {
    "collapsed": false
   },
   "outputs": [
    {
     "data": {
      "text/plain": [
       "(190,)"
      ]
     },
     "execution_count": 17,
     "metadata": {},
     "output_type": "execute_result"
    }
   ],
   "source": [
    "Y_valid.shape"
   ]
  },
  {
   "cell_type": "markdown",
   "metadata": {},
   "source": [
    "Visualize the training data, currently using a hacky method to display the numpy matrix as this is being run over a remote server and I can't view new windows"
   ]
  },
  {
   "cell_type": "code",
   "execution_count": 21,
   "metadata": {
    "collapsed": false
   },
   "outputs": [
    {
     "name": "stdout",
     "output_type": "stream",
     "text": [
      "/tmp\n"
     ]
    },
    {
     "data": {
      "image/png": "[encoded data removed]",
      "text/plain": [
       "<PIL.Image.Image image mode=RGB size=640x240 at 0x7F75F1223B38>"
      ]
     },
     "execution_count": 21,
     "metadata": {},
     "output_type": "execute_result"
    }
   ],
   "source": [
    "%cd /tmp\n",
    "for i in range(300):\n",
    "img = Image.fromarray(X_train[286+286+340+i], 'RGB')\n",
    "data = np.asarray(img)[...,[2,1,0]]\n",
    "img = Image.fromarray(data)\n",
    "img.save(\"temp{}.jpg\")\n",
    "image.load_img(\"temp.jpg\")"
   ]
  },
  {
   "cell_type": "markdown",
   "metadata": {},
   "source": [
    "### Validation Data"
   ]
  },
  {
   "cell_type": "markdown",
   "metadata": {},
   "source": [
    "Follow the same steps for as the training data for the validation data."
   ]
  },
  {
   "cell_type": "code",
   "execution_count": 19,
   "metadata": {
    "collapsed": false
   },
   "outputs": [],
   "source": [
    "# %cd $valid_path\n",
    "# Y_valid = np.genfromtxt('cmd_vel.csv', delimiter=',')[:,1]\n",
    "# Y_valid = np.concatenate((Y_valid, Y_valid*-1))\n",
    "# X_valid = folder_to_numpy(valid_path + '/raw')\n",
    "# X_valid = np.concatenate((X_valid, flip4DArray(X_valid)))"
   ]
  },
  {
   "cell_type": "markdown",
   "metadata": {},
   "source": [
    "Test the shape of the arrays:  \n",
    "X_valid: (N, 240, 640, 3)  \n",
    "Y_valid: (N,)"
   ]
  },
  {
   "cell_type": "code",
   "execution_count": 20,
   "metadata": {
    "collapsed": false
   },
   "outputs": [
    {
     "data": {
      "text/plain": [
       "((190, 240, 640, 3), (190,))"
      ]
     },
     "execution_count": 20,
     "metadata": {},
     "output_type": "execute_result"
    }
   ],
   "source": [
    "X_valid.shape, Y_valid.shape"
   ]
  },
  {
   "cell_type": "markdown",
   "metadata": {},
   "source": [
    "### Resize Data"
   ]
  },
  {
   "cell_type": "markdown",
   "metadata": {},
   "source": [
    "When we train the network, we don't want to be dealing with (240, 640, 3) images as they are way too big. Instead, we will resize the images to something more managable, like (64, 64, 3) or (128, 128, 3). In terms of network predictive performance, we are not concerned with the change in aspect ratio, but might want to test a (24, 64, 3) images for faster training"
   ]
  },
  {
   "cell_type": "code",
   "execution_count": 21,
   "metadata": {
    "collapsed": true
   },
   "outputs": [],
   "source": [
    "img_rows, img_cols = (64, 64)"
   ]
  },
  {
   "cell_type": "code",
   "execution_count": 22,
   "metadata": {
    "collapsed": false
   },
   "outputs": [
    {
     "name": "stdout",
     "output_type": "stream",
     "text": [
      "64\n",
      "64\n"
     ]
    }
   ],
   "source": [
    "print(img_rows)\n",
    "print(img_cols)"
   ]
  },
  {
   "cell_type": "code",
   "execution_count": 23,
   "metadata": {
    "collapsed": false
   },
   "outputs": [],
   "source": [
    "X_train = resize_vectorized4D(X_train, (img_rows, img_cols))\n",
    "X_valid = resize_vectorized4D(X_valid, (img_rows, img_cols))"
   ]
  },
  {
   "cell_type": "code",
   "execution_count": 24,
   "metadata": {
    "collapsed": false
   },
   "outputs": [
    {
     "name": "stdout",
     "output_type": "stream",
     "text": [
      "(1312, 64, 64, 3)\n",
      "(190, 64, 64, 3)\n"
     ]
    }
   ],
   "source": [
    "print(X_train.shape)\n",
    "print(X_valid.shape)"
   ]
  },
  {
   "cell_type": "markdown",
   "metadata": {},
   "source": [
    "Visualize newly resized image."
   ]
  },
  {
   "cell_type": "code",
   "execution_count": 25,
   "metadata": {
    "collapsed": false
   },
   "outputs": [
    {
     "name": "stdout",
     "output_type": "stream",
     "text": [
      "/tmp\n"
     ]
    },
    {
     "data": {
      "image/png": "[encoded data removed]",
      "text/plain": [
       "<PIL.Image.Image image mode=RGB size=64x64 at 0x7F73F76F9390>"
      ]
     },
     "execution_count": 25,
     "metadata": {},
     "output_type": "execute_result"
    }
   ],
   "source": [
    "%cd /tmp\n",
    "img = Image.fromarray(X_train[np.random.randint(0, X_train.shape[0])], 'RGB')\n",
    "img.save(\"temp.jpg\")\n",
    "image.load_img(\"temp.jpg\")"
   ]
  },
  {
   "cell_type": "markdown",
   "metadata": {},
   "source": [
    "### Batches"
   ]
  },
  {
   "cell_type": "markdown",
   "metadata": {},
   "source": [
    "gen allows us to normalize and augment our images. We will just use it to rescale the images."
   ]
  },
  {
   "cell_type": "code",
   "execution_count": 72,
   "metadata": {
    "collapsed": true
   },
   "outputs": [],
   "source": [
    "gen = image.ImageDataGenerator(\n",
    "#                                 rescale=1. / 255 # normalize data between 0 and 1\n",
    "                              )"
   ]
  },
  {
   "cell_type": "markdown",
   "metadata": {},
   "source": [
    "Next, create the train and valid generators, these are shuffle and have a batch size of 32 by default"
   ]
  },
  {
   "cell_type": "code",
   "execution_count": 31,
   "metadata": {
    "collapsed": false
   },
   "outputs": [],
   "source": [
    "train_generator = gen.flow(X_train, Y_train)#, batch_size=batch_size, shuffle=True)\n",
    "valid_generator = gen.flow(X_valid, Y_valid)#, batch_size=batch_size, shuffle=True)\n",
    "\n",
    "# get_batches(train_path, batch_size=batch_size, \n",
    "#                             target_size=in_shape, \n",
    "#                             gen=gen)\n",
    "# val_batches   = get_batches(valid_path, batch_size=batch_size, \n",
    "#                             target_size=in_shape, \n",
    "#                             gen=gen)"
   ]
  },
  {
   "cell_type": "code",
   "execution_count": 32,
   "metadata": {
    "collapsed": false
   },
   "outputs": [
    {
     "name": "stdout",
     "output_type": "stream",
     "text": [
      "Shape of data: (64, 64, 3)\n",
      "/tmp\n"
     ]
    },
    {
     "data": {
      "image/png": "[encoded data removed]",
      "text/plain": [
       "<PIL.Image.Image image mode=RGB size=64x64 at 0x7FBC14DB3DA0>"
      ]
     },
     "execution_count": 32,
     "metadata": {},
     "output_type": "execute_result"
    }
   ],
   "source": [
    "data, category = next(train_generator)\n",
    "print (\"Shape of data: {}\".format(data[0].shape))\n",
    "%cd /tmp\n",
    "img = Image.fromarray(data[np.random.randint(0, data.shape[0])].astype('uint8'), 'RGB')\n",
    "img.save(\"temp.jpg\")\n",
    "image.load_img(\"temp.jpg\")"
   ]
  },
  {
   "cell_type": "markdown",
   "metadata": {},
   "source": [
    "## Convnet"
   ]
  },
  {
   "cell_type": "markdown",
   "metadata": {},
   "source": [
    "### Constants"
   ]
  },
  {
   "cell_type": "code",
   "execution_count": 26,
   "metadata": {
    "collapsed": false
   },
   "outputs": [],
   "source": [
    "in_shape = (img_rows, img_cols, 3)"
   ]
  },
  {
   "cell_type": "markdown",
   "metadata": {},
   "source": [
    "### Model"
   ]
  },
  {
   "cell_type": "markdown",
   "metadata": {},
   "source": [
    "Our test model will use a VGG like structure with a few changes. We are removing the final activation function. We will also use either mean_absolute_error or mean_squared_error as our loss function for regression purposes."
   ]
  },
  {
   "cell_type": "code",
   "execution_count": 27,
   "metadata": {
    "collapsed": false
   },
   "outputs": [],
   "source": [
    "def get_model():\n",
    "    model = Sequential([\n",
    "        Convolution2D(32,3,3, border_mode='same', activation='relu', input_shape=in_shape),\n",
    "        MaxPooling2D(),\n",
    "        Convolution2D(64,3,3, border_mode='same', activation='relu'),\n",
    "        MaxPooling2D(),\n",
    "        Convolution2D(128,3,3, border_mode='same', activation='relu'),\n",
    "        MaxPooling2D(),\n",
    "        Flatten(),\n",
    "        Dense(2048, activation='relu'),\n",
    "        Dense(1024, activation='relu'),\n",
    "        Dense(512, activation='relu'),\n",
    "        Dense(1)\n",
    "        ])\n",
    "    model.compile(loss='mean_absolute_error', optimizer='adam')\n",
    "    return model"
   ]
  },
  {
   "cell_type": "code",
   "execution_count": 28,
   "metadata": {
    "collapsed": false
   },
   "outputs": [],
   "source": [
    "model = get_model()"
   ]
  },
  {
   "cell_type": "code",
   "execution_count": 29,
   "metadata": {
    "collapsed": false,
    "scrolled": false
   },
   "outputs": [
    {
     "name": "stdout",
     "output_type": "stream",
     "text": [
      "____________________________________________________________________________________________________\n",
      "Layer (type)                     Output Shape          Param #     Connected to                     \n",
      "====================================================================================================\n",
      "convolution2d_1 (Convolution2D)  (None, 64, 64, 32)    896         convolution2d_input_1[0][0]      \n",
      "____________________________________________________________________________________________________\n",
      "maxpooling2d_1 (MaxPooling2D)    (None, 32, 32, 32)    0           convolution2d_1[0][0]            \n",
      "____________________________________________________________________________________________________\n",
      "convolution2d_2 (Convolution2D)  (None, 32, 32, 64)    18496       maxpooling2d_1[0][0]             \n",
      "____________________________________________________________________________________________________\n",
      "maxpooling2d_2 (MaxPooling2D)    (None, 16, 16, 64)    0           convolution2d_2[0][0]            \n",
      "____________________________________________________________________________________________________\n",
      "convolution2d_3 (Convolution2D)  (None, 16, 16, 128)   73856       maxpooling2d_2[0][0]             \n",
      "____________________________________________________________________________________________________\n",
      "maxpooling2d_3 (MaxPooling2D)    (None, 8, 8, 128)     0           convolution2d_3[0][0]            \n",
      "____________________________________________________________________________________________________\n",
      "flatten_1 (Flatten)              (None, 8192)          0           maxpooling2d_3[0][0]             \n",
      "____________________________________________________________________________________________________\n",
      "dense_1 (Dense)                  (None, 2048)          16779264    flatten_1[0][0]                  \n",
      "____________________________________________________________________________________________________\n",
      "dense_2 (Dense)                  (None, 1024)          2098176     dense_1[0][0]                    \n",
      "____________________________________________________________________________________________________\n",
      "dense_3 (Dense)                  (None, 512)           524800      dense_2[0][0]                    \n",
      "____________________________________________________________________________________________________\n",
      "dense_4 (Dense)                  (None, 1)             513         dense_3[0][0]                    \n",
      "====================================================================================================\n",
      "Total params: 19,496,001\n",
      "Trainable params: 19,496,001\n",
      "Non-trainable params: 0\n",
      "____________________________________________________________________________________________________\n"
     ]
    }
   ],
   "source": [
    "model.summary()"
   ]
  },
  {
   "cell_type": "markdown",
   "metadata": {},
   "source": [
    "### Train"
   ]
  },
  {
   "cell_type": "code",
   "execution_count": 49,
   "metadata": {
    "collapsed": false
   },
   "outputs": [
    {
     "name": "stdout",
     "output_type": "stream",
     "text": [
      "Epoch 1/5\n",
      "1312/1312 [==============================] - 1s - loss: 0.0050 - val_loss: 0.0034\n",
      "Epoch 2/5\n",
      "1312/1312 [==============================] - 1s - loss: 0.0044 - val_loss: 0.0048\n",
      "Epoch 3/5\n",
      "1312/1312 [==============================] - 1s - loss: 0.0046 - val_loss: 0.0036\n",
      "Epoch 4/5\n",
      "1312/1312 [==============================] - 1s - loss: 0.0046 - val_loss: 0.0040\n",
      "Epoch 5/5\n",
      "1312/1312 [==============================] - 1s - loss: 0.0048 - val_loss: 0.0039\n"
     ]
    }
   ],
   "source": [
    "history = model.fit_generator(train_generator, \n",
    "                    samples_per_epoch=train_generator.n,\n",
    "                    nb_epoch=5,\n",
    "                    validation_data=valid_generator,\n",
    "                    nb_val_samples=valid_generator.n,\n",
    "                    verbose=True)"
   ]
  },
  {
   "cell_type": "code",
   "execution_count": 50,
   "metadata": {
    "collapsed": false
   },
   "outputs": [
    {
     "name": "stdout",
     "output_type": "stream",
     "text": [
      "/home/nathan/olin/spring2017/line-follower/line-follower/data\n"
     ]
    }
   ],
   "source": [
    "# %cd $DATA_HOME_DIR\n",
    "# model.save_weights('epoche_QEA_carpet_425.h5')"
   ]
  },
  {
   "cell_type": "code",
   "execution_count": 30,
   "metadata": {
    "collapsed": false
   },
   "outputs": [],
   "source": [
    "# %cd $DATA_HOME_DIR\n",
    "# model.save_weights('epoche_2500.h5')"
   ]
  },
  {
   "cell_type": "code",
   "execution_count": 30,
   "metadata": {
    "collapsed": false
   },
   "outputs": [
    {
     "name": "stdout",
     "output_type": "stream",
     "text": [
      "/home/nathan/olin/spring2017/line-follower/line-follower/data\n"
     ]
    }
   ],
   "source": [
    "%cd $DATA_HOME_DIR\n",
    "model.load_weights('epoche_QEA_carpet_425.h5')"
   ]
  },
  {
   "cell_type": "code",
   "execution_count": 31,
   "metadata": {
    "collapsed": false
   },
   "outputs": [
    {
     "data": {
      "text/plain": [
       "11"
      ]
     },
     "execution_count": 31,
     "metadata": {},
     "output_type": "execute_result"
    }
   ],
   "source": [
    "len(model.layers)"
   ]
  },
  {
   "cell_type": "code",
   "execution_count": 33,
   "metadata": {
    "collapsed": false
   },
   "outputs": [],
   "source": [
    "model.pop()"
   ]
  },
  {
   "cell_type": "code",
   "execution_count": 34,
   "metadata": {
    "collapsed": false
   },
   "outputs": [
    {
     "data": {
      "text/plain": [
       "10"
      ]
     },
     "execution_count": 34,
     "metadata": {},
     "output_type": "execute_result"
    }
   ],
   "source": [
    "len(model.layers)"
   ]
  },
  {
   "cell_type": "code",
   "execution_count": 35,
   "metadata": {
    "collapsed": true
   },
   "outputs": [],
   "source": [
    "model.compile(loss='mean_absolute_error', optimizer='adam')"
   ]
  },
  {
   "cell_type": "code",
   "execution_count": 36,
   "metadata": {
    "collapsed": false
   },
   "outputs": [
    {
     "name": "stdout",
     "output_type": "stream",
     "text": [
      "____________________________________________________________________________________________________\n",
      "Layer (type)                     Output Shape          Param #     Connected to                     \n",
      "====================================================================================================\n",
      "convolution2d_1 (Convolution2D)  (None, 64, 64, 32)    896         convolution2d_input_1[0][0]      \n",
      "____________________________________________________________________________________________________\n",
      "maxpooling2d_1 (MaxPooling2D)    (None, 32, 32, 32)    0           convolution2d_1[0][0]            \n",
      "____________________________________________________________________________________________________\n",
      "convolution2d_2 (Convolution2D)  (None, 32, 32, 64)    18496       maxpooling2d_1[0][0]             \n",
      "____________________________________________________________________________________________________\n",
      "maxpooling2d_2 (MaxPooling2D)    (None, 16, 16, 64)    0           convolution2d_2[0][0]            \n",
      "____________________________________________________________________________________________________\n",
      "convolution2d_3 (Convolution2D)  (None, 16, 16, 128)   73856       maxpooling2d_2[0][0]             \n",
      "____________________________________________________________________________________________________\n",
      "maxpooling2d_3 (MaxPooling2D)    (None, 8, 8, 128)     0           convolution2d_3[0][0]            \n",
      "____________________________________________________________________________________________________\n",
      "flatten_1 (Flatten)              (None, 8192)          0           maxpooling2d_3[0][0]             \n",
      "____________________________________________________________________________________________________\n",
      "dense_1 (Dense)                  (None, 2048)          16779264    flatten_1[0][0]                  \n",
      "____________________________________________________________________________________________________\n",
      "dense_2 (Dense)                  (None, 1024)          2098176     dense_1[0][0]                    \n",
      "____________________________________________________________________________________________________\n",
      "dense_3 (Dense)                  (None, 512)           524800      dense_2[0][0]                    \n",
      "====================================================================================================\n",
      "Total params: 19,495,488\n",
      "Trainable params: 19,495,488\n",
      "Non-trainable params: 0\n",
      "____________________________________________________________________________________________________\n"
     ]
    }
   ],
   "source": [
    "model.summary()"
   ]
  },
  {
   "cell_type": "code",
   "execution_count": 37,
   "metadata": {
    "collapsed": false
   },
   "outputs": [],
   "source": [
    "X_train_features = model.predict(X_train)\n",
    "X_valid_features = model.predict(X_valid)"
   ]
  },
  {
   "cell_type": "code",
   "execution_count": 74,
   "metadata": {
    "collapsed": false
   },
   "outputs": [
    {
     "name": "stdout",
     "output_type": "stream",
     "text": [
      "-0.0 0.0169121\n",
      "-0.0 -0.00638706\n",
      "-0.0 -0.077729\n",
      "-0.0 -0.0746064\n",
      "-0.0 -0.079439\n",
      "-0.021651917696 -0.0231027\n",
      "-0.0316362909973 -0.0759841\n",
      "-0.0 0.0909054\n",
      "-0.0 0.0776861\n",
      "-0.0 0.0989007\n",
      "0.0491282165051 0.153507\n",
      "0.151477664709 0.135722\n",
      "0.178934687376 0.0895206\n",
      "0.2338583529 0.0584172\n",
      "0.261315375566 0.0487833\n",
      "0.193911230564 0.0855287\n",
      "0.173942488432 0.0787217\n",
      "0.119028452039 0.02801\n",
      "0.084073510766 -0.000970422\n",
      "0.0141829155385 -0.0116556\n",
      "-0.0 -0.0851124\n",
      "0.0291594721377 -0.0789278\n",
      "0.00170245100744 -0.0789278\n",
      "-0.0 -0.00474807\n",
      "-0.0 -0.00474807\n",
      "-0.0 -0.083476\n",
      "-0.0 0.171182\n",
      "-0.0 0.162887\n",
      "-0.0 -0.0924934\n",
      "0.0466321215034 -0.103305\n",
      "0.3 -0.000258378\n",
      "0.3 -0.036319\n",
      "0.3 -0.036319\n",
      "0.3 -0.0644448\n",
      "0.3 0.00210089\n",
      "0.3 0.0734325\n",
      "-0.0 -0.000970422\n",
      "-0.0 -0.0075827\n",
      "-0.0990404337645 -0.0635564\n",
      "-0.0441167548299 -0.056405\n",
      "-0.0 -0.000970422\n",
      "-0.0 -0.000970422\n",
      "-0.0 -0.00284211\n",
      "-0.0 0.0186012\n",
      "-0.0 0.0880841\n",
      "-0.0 0.0126814\n",
      "0.104051890969 0.0191465\n",
      "0.0965636193752 -0.0806142\n",
      "0.0341516576707 -0.0132484\n",
      "0.106547990441 -0.0408514\n",
      "0.178934687376 -0.0267508\n",
      "0.166454207897 -0.000970422\n",
      "0.129012823105 -0.000970422\n",
      "0.129012823105 -0.000970422\n",
      "0.126516732574 0.00219911\n",
      "0.126516732574 0.0064979\n",
      "0.039143845439 0.0578686\n",
      "0.116532361507 0.0889171\n",
      "0.13650110364 0.0836989\n",
      "0.0216711938381 0.045083\n",
      "-0.0 0.00281554\n",
      "0.0491282165051 -0.000970422\n",
      "-0.0 -0.000970422\n",
      "-0.0 0.0144795\n",
      "-0.0 0.0809044\n",
      "-0.0 -0.022585\n",
      "0.0641047731042 -0.021451\n",
      "0.3 -0.0470196\n",
      "0.3 -0.0656527\n",
      "0.3 -0.0171577\n",
      "0.3 0.118913\n",
      "0.0641047731042 0.067988\n",
      "0.0416399359703 0.000561248\n",
      "0.0815774202347 0.000231154\n",
      "0.148981565237 0.0556746\n",
      "-0.0316362909973 -0.116474\n",
      "-0.0466128453612 -0.114918\n",
      "-0.086550334096 -0.123692\n",
      "-0.0 -0.123692\n",
      "-0.0 -0.0886589\n",
      "-0.0 0.0364427\n",
      "-0.0 -0.124804\n",
      "-0.0 -0.0182114\n",
      "-0.0 -0.0185088\n",
      "0.00919072944671 0.0730299\n",
      "0.163958126307 0.0721333\n",
      "0.213889610767 0.0553097\n",
      "0.213889610767 0.180585\n",
      "0.213889610767 -0.032682\n",
      "0.216385710239 0.0923382\n",
      "0.263811475039 0.0923382\n",
      "0.138997194171 -0.000970422\n",
      "-0.0 -0.000970422\n",
      "-0.0 -0.0493473\n",
      "-0.0 -0.00816345\n",
      "0.0 -0.000970422\n",
      "0.0 0.0352023\n",
      "0.0 0.0369132\n",
      "0.0 0.0303954\n",
      "0.0 0.00264887\n",
      "0.021651917696 0.0607027\n",
      "0.0316362909973 0.0334682\n",
      "0.0 0.000631851\n",
      "0.0 0.0156125\n",
      "0.0 -0.113562\n",
      "-0.0491282165051 0.0461799\n",
      "-0.151477664709 0.274897\n",
      "-0.178934687376 0.11469\n",
      "-0.2338583529 -0.123244\n",
      "-0.261315375566 -0.0501112\n",
      "-0.193911230564 -0.0719429\n",
      "-0.173942488432 -0.0937499\n",
      "-0.119028452039 -0.119244\n",
      "-0.084073510766 -0.000970422\n",
      "-0.0141829155385 -0.000970422\n",
      "0.0 0.101443\n",
      "-0.0291594721377 0.0128259\n",
      "-0.00170245100744 0.0128259\n",
      "0.0 0.0784714\n",
      "0.0 0.0784714\n",
      "0.0 0.00813747\n",
      "0.0 -0.0183941\n",
      "0.0 0.0392246\n",
      "0.0 0.029697\n",
      "-0.0466321215034 0.104906\n",
      "-0.3 0.0214848\n",
      "-0.3 0.0653894\n",
      "-0.3 0.0653894\n",
      "-0.3 -0.0206327\n",
      "-0.3 0.0127765\n",
      "-0.3 -0.0789436\n",
      "0.0 -0.000970422\n",
      "0.0 0.00321859\n",
      "0.0990404337645 0.0104107\n",
      "0.0441167548299 -0.000342638\n",
      "0.0 -0.000970422\n",
      "0.0 0.00824904\n",
      "0.0 -0.000970422\n",
      "0.0 -0.000970422\n",
      "0.0 -0.0444458\n",
      "0.0 -0.0802444\n",
      "-0.104051890969 -0.0267678\n",
      "-0.0965636193752 -0.000970422\n",
      "-0.0341516576707 -0.000970422\n",
      "-0.106547990441 0.0105373\n",
      "-0.178934687376 0.000357862\n",
      "-0.166454207897 -0.000970422\n",
      "-0.129012823105 -0.000970422\n",
      "-0.129012823105 -0.000970422\n",
      "-0.126516732574 -0.00775161\n",
      "-0.126516732574 -0.0770045\n",
      "-0.039143845439 -0.0476077\n",
      "-0.116532361507 -0.000970422\n",
      "-0.13650110364 -0.0871766\n",
      "-0.0216711938381 -0.0250885\n",
      "0.0 -0.000970422\n",
      "-0.0491282165051 -0.000970422\n",
      "0.0 -0.00466741\n",
      "0.0 -0.0299036\n",
      "0.0 -0.112558\n",
      "0.0 -0.00453767\n",
      "-0.0641047731042 -0.0572775\n",
      "-0.3 -0.0335407\n",
      "-0.3 -0.000970422\n",
      "-0.3 0.00383384\n",
      "-0.3 -0.0828559\n",
      "-0.0641047731042 -0.110103\n",
      "-0.0416399359703 -0.0177829\n",
      "-0.0815774202347 -0.00297912\n",
      "-0.148981565237 0.0506694\n",
      "0.0316362909973 0.0358446\n",
      "0.0466128453612 0.100425\n",
      "0.086550334096 0.0984993\n",
      "0.0 0.0984993\n",
      "0.0 0.0194759\n",
      "0.0 -0.000970422\n",
      "0.0 0.020279\n",
      "0.0 0.0596686\n",
      "0.0 0.0242873\n",
      "-0.00919072944671 -0.126161\n",
      "-0.163958126307 0.0330523\n",
      "-0.213889610767 0.133475\n",
      "-0.213889610767 -0.151833\n",
      "-0.213889610767 0.0171184\n",
      "-0.216385710239 -0.0540449\n",
      "-0.263811475039 -0.0540449\n",
      "-0.138997194171 -0.128511\n",
      "0.0 0.0050237\n",
      "0.0 0.0903917\n",
      "0.0 0.00323767\n"
     ]
    }
   ],
   "source": [
    "for x,y in zip(Y_valid, X_valid_features):\n",
    "    print (x, y[0])"
   ]
  },
  {
   "cell_type": "code",
   "execution_count": 42,
   "metadata": {
    "collapsed": false
   },
   "outputs": [
    {
     "name": "stdout",
     "output_type": "stream",
     "text": [
      "/home/nathan/olin/spring2017/line-follower/line-follower/data/qea_blob_1\n"
     ]
    }
   ],
   "source": [
    "%cd $train_path2\n",
    "save_array(\"X_train_features3.b\", X_train_features)"
   ]
  },
  {
   "cell_type": "code",
   "execution_count": 38,
   "metadata": {
    "collapsed": false
   },
   "outputs": [
    {
     "name": "stdout",
     "output_type": "stream",
     "text": [
      "/home/nathan/olin/spring2017/line-follower/line-follower/data/qea-square_3\n"
     ]
    }
   ],
   "source": [
    "%cd $valid_path1\n",
    "save_array(\"X_train_features3.b\", X_valid_features)"
   ]
  },
  {
   "cell_type": "code",
   "execution_count": null,
   "metadata": {
    "collapsed": false
   },
   "outputs": [],
   "source": [
    "X_train_features[9]"
   ]
  },
  {
   "cell_type": "code",
   "execution_count": null,
   "metadata": {
    "collapsed": true
   },
   "outputs": [],
   "source": [
    "def get_model_lstm():\n",
    "    model = Sequential([\n",
    "        Convolution2D(32,3,3, border_mode='same', activation='relu', input_shape=in_shape),\n",
    "        MaxPooling2D(),\n",
    "        Convolution2D(64,3,3, border_mode='same', activation='relu'),\n",
    "        MaxPooling2D(),\n",
    "        Convolution2D(128,3,3, border_mode='same', activation='relu'),\n",
    "        MaxPooling2D(),\n",
    "        Flatten(),\n",
    "        Dense(2048, activation='relu'),\n",
    "        Dense(1024, activation='relu'),\n",
    "        Dense(512, activation='relu'),\n",
    "        Dense(1)\n",
    "        ])\n",
    "    model.compile(loss='mean_absolute_error', optimizer='adam')\n",
    "    return model"
   ]
  },
  {
   "cell_type": "code",
   "execution_count": 48,
   "metadata": {
    "collapsed": false
   },
   "outputs": [
    {
     "data": {
      "text/plain": [
       "(1312, 64, 64, 3)"
      ]
     },
     "execution_count": 48,
     "metadata": {},
     "output_type": "execute_result"
    }
   ],
   "source": [
    "X_train.shape"
   ]
  },
  {
   "cell_type": "markdown",
   "metadata": {
    "heading_collapsed": true
   },
   "source": [
    "### Visualize Training"
   ]
  },
  {
   "cell_type": "code",
   "execution_count": null,
   "metadata": {
    "collapsed": false,
    "hidden": true
   },
   "outputs": [],
   "source": [
    "val_plot = np.convolve(history.history['val_loss'], np.repeat(1/10, 10), mode='valid')\n",
    "train_plot = np.convolve(history.history['loss'], np.repeat(1/10, 10), mode='valid')"
   ]
  },
  {
   "cell_type": "code",
   "execution_count": null,
   "metadata": {
    "collapsed": false,
    "hidden": true
   },
   "outputs": [],
   "source": [
    "sns.tsplot(val_plot)"
   ]
  },
  {
   "cell_type": "code",
   "execution_count": null,
   "metadata": {
    "collapsed": false,
    "hidden": true,
    "scrolled": false
   },
   "outputs": [],
   "source": [
    "X_preds = model.predict(X_valid).reshape(X_valid.shape[0],)\n",
    "for i in range(len(X_valid)):\n",
    "    print(\"{:07f} | {:07f}\".format(Y_valid[i], X_preds[i]))"
   ]
  },
  {
   "cell_type": "code",
   "execution_count": null,
   "metadata": {
    "collapsed": false,
    "hidden": true,
    "scrolled": true
   },
   "outputs": [],
   "source": [
    "X_train_preds = model.predict(X_train).reshape(X_train.shape[0],)\n",
    "for i in range(len(X_train_preds)):\n",
    "    print(\"{:07f} | {:07f}\".format(Y_train[i], X_train_preds[i]))"
   ]
  },
  {
   "cell_type": "markdown",
   "metadata": {
    "collapsed": true,
    "hidden": true
   },
   "source": [
    "Notes\n",
    "* 32 by 32 images are too small resolution for regression\n",
    "* 64 by 64 seemed to work really well\n",
    "* Moving average plot to see val_loss over time is really nice\n",
    "* Can take up to 2000 epochs to reach a nice minimum"
   ]
  },
  {
   "cell_type": "code",
   "execution_count": null,
   "metadata": {
    "collapsed": false,
    "hidden": true,
    "scrolled": true
   },
   "outputs": [],
   "source": [
    "X_preds.shape"
   ]
  },
  {
   "cell_type": "code",
   "execution_count": null,
   "metadata": {
    "collapsed": false,
    "hidden": true
   },
   "outputs": [],
   "source": [
    "X_train_preds.shape"
   ]
  },
  {
   "cell_type": "code",
   "execution_count": null,
   "metadata": {
    "collapsed": false,
    "hidden": true
   },
   "outputs": [],
   "source": [
    "np.savetxt(\"X_train_valid.csv\", X_preds, fmt='%.18e', delimiter=',', newline='\\n')\n",
    "np.savetxt(\"X_train_preds.csv\", X_train_preds, fmt='%.18e', delimiter=',', newline='\\n')"
   ]
  },
  {
   "cell_type": "code",
   "execution_count": null,
   "metadata": {
    "collapsed": true,
    "hidden": true
   },
   "outputs": [],
   "source": []
  }
 ],
 "metadata": {
  "anaconda-cloud": {},
  "kernelspec": {
   "display_name": "Python [conda env:deepLearning]",
   "language": "python",
   "name": "conda-env-deepLearning-py"
  },
  "language_info": {
   "codemirror_mode": {
    "name": "ipython",
    "version": 3
   },
   "file_extension": ".py",
   "mimetype": "text/x-python",
   "name": "python",
   "nbconvert_exporter": "python",
   "pygments_lexer": "ipython3",
   "version": "3.5.2"
  }
 },
 "nbformat": 4,
 "nbformat_minor": 1
}
