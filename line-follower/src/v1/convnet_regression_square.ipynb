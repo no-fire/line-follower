{
 "cells": [
  {
   "cell_type": "markdown",
   "metadata": {},
   "source": [
    "# Line Follower - CompRobo17"
   ]
  },
  {
   "cell_type": "markdown",
   "metadata": {},
   "source": [
    "This notebook will show the general procedure to use our project data directories and how to do a regression task using convnets"
   ]
  },
  {
   "cell_type": "markdown",
   "metadata": {},
   "source": [
    "## Imports and Directories"
   ]
  },
  {
   "cell_type": "code",
   "execution_count": 17,
   "metadata": {
    "collapsed": false
   },
   "outputs": [],
   "source": [
    "#Create references to important directories we will use over and over\n",
    "import os, sys"
   ]
  },
  {
   "cell_type": "code",
   "execution_count": 2,
   "metadata": {
    "collapsed": false
   },
   "outputs": [
    {
     "name": "stderr",
     "output_type": "stream",
     "text": [
      "Using TensorFlow backend.\n"
     ]
    }
   ],
   "source": [
    "#import modules\n",
    "import numpy as np\n",
    "from glob import glob\n",
    "from PIL import Image\n",
    "from tqdm import tqdm\n",
    "from scipy.ndimage import zoom\n",
    "\n",
    "from keras.models import Sequential\n",
    "from keras.metrics import categorical_crossentropy, categorical_accuracy\n",
    "from keras.layers.convolutional import *\n",
    "from keras.preprocessing import image\n",
    "from keras.layers.core import Flatten, Dense\n",
    "from keras.optimizers import Adam\n",
    "from keras.layers.normalization import BatchNormalization\n",
    "\n",
    "from matplotlib import pyplot as plt\n",
    "import seaborn as sns\n",
    "%matplotlib inline"
   ]
  },
  {
   "cell_type": "code",
   "execution_count": 3,
   "metadata": {
    "collapsed": true
   },
   "outputs": [],
   "source": [
    "import bcolz"
   ]
  },
  {
   "cell_type": "markdown",
   "metadata": {},
   "source": [
    "Create paths to data directories"
   ]
  },
  {
   "cell_type": "code",
   "execution_count": 86,
   "metadata": {
    "collapsed": false
   },
   "outputs": [
    {
     "name": "stdout",
     "output_type": "stream",
     "text": [
      "/home/nathan/olin/spring2017/line-follower/line-follower/data\n"
     ]
    }
   ],
   "source": [
    "DATA_HOME_DIR = '/home/nathan/olin/spring2017/line-follower/line-follower/data'\n",
    "%cd $DATA_HOME_DIR\n",
    "\n",
    "path = DATA_HOME_DIR\n",
    "train_path=path + '/qea-square_2'#+ '/sun_apr_16_office_full_line_1'\n",
    "valid_path=path + '/qea-square_3'#+ '/sun_apr_16_office_full_line_2'"
   ]
  },
  {
   "cell_type": "markdown",
   "metadata": {
    "heading_collapsed": true
   },
   "source": [
    "## Helper Functions"
   ]
  },
  {
   "cell_type": "markdown",
   "metadata": {
    "hidden": true
   },
   "source": [
    "Throughout the notebook, we will take advantage of helper functions to cleanly process our data."
   ]
  },
  {
   "cell_type": "code",
   "execution_count": 5,
   "metadata": {
    "collapsed": false,
    "hidden": true
   },
   "outputs": [],
   "source": [
    "def resize_vectorized4D(data, new_size=(64, 64)):\n",
    "    \"\"\"\n",
    "    A vectorized implementation of 4d image resizing\n",
    "    \n",
    "    Args:\n",
    "        data (4D array): The images you want to resize\n",
    "        new_size (tuple): The desired image size\n",
    "        \n",
    "    Returns: (4D array): The resized images\n",
    "    \"\"\"\n",
    "    fy, fx = np.asarray(new_size, np.float32) / data.shape[1:3]\n",
    "    return zoom(data, (1, fy, fx, 1), order=1) # order is the order of spline interpolation"
   ]
  },
  {
   "cell_type": "code",
   "execution_count": 6,
   "metadata": {
    "collapsed": true,
    "hidden": true
   },
   "outputs": [],
   "source": [
    "def lowerHalfImage(array):\n",
    "    \"\"\" \n",
    "    Returns the lower half rows of an image\n",
    "    \n",
    "    Args: array (array): the array you want to extract the lower half from\n",
    "    \n",
    "    Returns: The lower half of the array\n",
    "    \"\"\"\n",
    "    return array[round(array.shape[0]/2):,:,:]"
   ]
  },
  {
   "cell_type": "code",
   "execution_count": 7,
   "metadata": {
    "collapsed": true,
    "hidden": true
   },
   "outputs": [],
   "source": [
    "def folder_to_numpy(image_directory_full):\n",
    "    \"\"\"\n",
    "    Read sorted pictures (by filename) in a folder to a numpy array. \n",
    "    We have hardcoded the extraction of the lower half of the images as\n",
    "    that is the relevant data\n",
    "    \n",
    "    USAGE:\n",
    "        data_folder = '/train/test1'\n",
    "        X_train = folder_to_numpy(data_folder)\n",
    "    \n",
    "    Args:\n",
    "        data_folder (str): The relative folder from DATA_HOME_DIR\n",
    "        \n",
    "    Returns:\n",
    "        picture_array (np array): The numpy array in tensorflow format\n",
    "    \"\"\"\n",
    "    # change directory\n",
    "    print (\"Moving to directory: \" + image_directory_full)\n",
    "    os.chdir(image_directory_full)\n",
    "    \n",
    "    # read in filenames from directory\n",
    "    g = glob('*.png')\n",
    "    if len(g) == 0:\n",
    "        g = glob('*.jpg')\n",
    "    print (\"Found {} pictures\".format(len(g)))\n",
    "    \n",
    "    # sort filenames\n",
    "    g.sort()\n",
    "    \n",
    "    # open and convert images to numpy array - then extract the lower half of each image\n",
    "    print(\"Starting pictures to numpy conversion\")\n",
    "    picture_arrays = np.array([lowerHalfImage(np.array(Image.open(image_path))) for image_path in g])\n",
    "    \n",
    "#     reshape to tensorflow format\n",
    "#     picture_arrays = picture_arrays.reshape(*picture_arrays.shape, 1)\n",
    "    print (\"Shape of output: {}\".format(picture_arrays.shape))\n",
    "    \n",
    "    # return array\n",
    "    return picture_arrays\n",
    "    return picture_arrays.astype('float32')"
   ]
  },
  {
   "cell_type": "code",
   "execution_count": 8,
   "metadata": {
    "collapsed": false,
    "hidden": true
   },
   "outputs": [],
   "source": [
    "def flip4DArray(array):\n",
    "    \"\"\" Produces the mirror images of a 4D image array \"\"\"\n",
    "    return array[..., ::-1,:] #[:,:,::-1] also works but is 50% slower"
   ]
  },
  {
   "cell_type": "code",
   "execution_count": 9,
   "metadata": {
    "collapsed": true,
    "hidden": true
   },
   "outputs": [],
   "source": [
    "def concatCmdVelFlip(array):\n",
    "    \"\"\" Concatentaes and returns Cmd Vel array \"\"\"\n",
    "    return np.concatenate((array, array*-1)) # multiply by negative 1 for opposite turn"
   ]
  },
  {
   "cell_type": "code",
   "execution_count": 10,
   "metadata": {
    "collapsed": true,
    "hidden": true
   },
   "outputs": [],
   "source": [
    "def save_array(fname, arr):\n",
    "    c=bcolz.carray(arr, rootdir=fname, mode='w')\n",
    "    c.flush()"
   ]
  },
  {
   "cell_type": "code",
   "execution_count": 11,
   "metadata": {
    "collapsed": true,
    "hidden": true
   },
   "outputs": [],
   "source": [
    "def load_array(fname):\n",
    "    return bcolz.open(fname)[:]"
   ]
  },
  {
   "cell_type": "markdown",
   "metadata": {},
   "source": [
    "## Data"
   ]
  },
  {
   "cell_type": "markdown",
   "metadata": {},
   "source": [
    "Because we are using a CNN and unordered pictures, we can flip our data and concatenate it on the end of all training and validation data to make sure we don't bias left or right turns."
   ]
  },
  {
   "cell_type": "markdown",
   "metadata": {},
   "source": [
    "### Training Data"
   ]
  },
  {
   "cell_type": "markdown",
   "metadata": {},
   "source": [
    "Extract and store the training data in X_train and Y_train"
   ]
  },
  {
   "cell_type": "code",
   "execution_count": 21,
   "metadata": {
    "collapsed": false
   },
   "outputs": [
    {
     "name": "stdout",
     "output_type": "stream",
     "text": [
      "/home/nathan/olin/spring2017/line-follower/line-follower/data/qea-square_2\n",
      "Moving to directory: /home/nathan/olin/spring2017/line-follower/line-follower/data/qea-square_2/raw\n",
      "Found 259 pictures\n",
      "Starting pictures to numpy conversion\n",
      "Shape of output: (259, 240, 640, 3)\n"
     ]
    }
   ],
   "source": [
    "%cd $train_path\n",
    "Y_train = np.genfromtxt('cmd_vel.csv', delimiter=',')[:,1] # only use turning angle\n",
    "Y_train = np.concatenate((Y_train, Y_train*-1))\n",
    "X_train = folder_to_numpy(train_path + '/raw')\n",
    "X_train = np.concatenate((X_train, flip4DArray(X_train)))"
   ]
  },
  {
   "cell_type": "markdown",
   "metadata": {},
   "source": [
    "Test the shape of the arrays:  \n",
    "X_train: (N, 240, 640, 3)  \n",
    "Y_train: (N,)"
   ]
  },
  {
   "cell_type": "code",
   "execution_count": 22,
   "metadata": {
    "collapsed": false
   },
   "outputs": [
    {
     "data": {
      "text/plain": [
       "((518, 240, 640, 3), (518,))"
      ]
     },
     "execution_count": 22,
     "metadata": {},
     "output_type": "execute_result"
    }
   ],
   "source": [
    "X_train.shape, Y_train.shape"
   ]
  },
  {
   "cell_type": "markdown",
   "metadata": {},
   "source": [
    "Visualize the training data, currently using a hacky method to display the numpy matrix as this is being run over a remote server and I can't view new windows"
   ]
  },
  {
   "cell_type": "code",
   "execution_count": 23,
   "metadata": {
    "collapsed": false
   },
   "outputs": [
    {
     "name": "stdout",
     "output_type": "stream",
     "text": [
      "/tmp\n"
     ]
    },
    {
     "data": {
      "image/png": "[encoded data removed]",
      "text/plain": [
       "<PIL.Image.Image image mode=RGB size=640x240 at 0x7F1CA8B6A080>"
      ]
     },
     "execution_count": 23,
     "metadata": {},
     "output_type": "execute_result"
    }
   ],
   "source": [
    "%cd /tmp\n",
    "img = Image.fromarray(X_train[0], 'RGB')\n",
    "img.save(\"temp.jpg\")\n",
    "image.load_img(\"temp.jpg\")"
   ]
  },
  {
   "cell_type": "markdown",
   "metadata": {},
   "source": [
    "### Validation Data"
   ]
  },
  {
   "cell_type": "markdown",
   "metadata": {},
   "source": [
    "Follow the same steps for as the training data for the validation data."
   ]
  },
  {
   "cell_type": "code",
   "execution_count": 24,
   "metadata": {
    "collapsed": false
   },
   "outputs": [
    {
     "name": "stdout",
     "output_type": "stream",
     "text": [
      "/home/nathan/olin/spring2017/line-follower/line-follower/data/qea-square_3\n",
      "Moving to directory: /home/nathan/olin/spring2017/line-follower/line-follower/data/qea-square_3/raw\n",
      "Found 95 pictures\n",
      "Starting pictures to numpy conversion\n",
      "Shape of output: (95, 240, 640, 3)\n"
     ]
    }
   ],
   "source": [
    "%cd $valid_path\n",
    "Y_valid = np.genfromtxt('cmd_vel.csv', delimiter=',')[:,1]\n",
    "Y_valid = np.concatenate((Y_valid, Y_valid*-1))\n",
    "X_valid = folder_to_numpy(valid_path + '/raw')\n",
    "X_valid = np.concatenate((X_valid, flip4DArray(X_valid)))"
   ]
  },
  {
   "cell_type": "markdown",
   "metadata": {},
   "source": [
    "Test the shape of the arrays:  \n",
    "X_valid: (N, 240, 640, 3)  \n",
    "Y_valid: (N,)"
   ]
  },
  {
   "cell_type": "code",
   "execution_count": 25,
   "metadata": {
    "collapsed": false
   },
   "outputs": [
    {
     "data": {
      "text/plain": [
       "((190, 240, 640, 3), (190,))"
      ]
     },
     "execution_count": 25,
     "metadata": {},
     "output_type": "execute_result"
    }
   ],
   "source": [
    "X_valid.shape, Y_valid.shape"
   ]
  },
  {
   "cell_type": "markdown",
   "metadata": {},
   "source": [
    "### Resize Data"
   ]
  },
  {
   "cell_type": "markdown",
   "metadata": {},
   "source": [
    "When we train the network, we don't want to be dealing with (240, 640, 3) images as they are way too big. Instead, we will resize the images to something more managable, like (64, 64, 3) or (128, 128, 3). In terms of network predictive performance, we are not concerned with the change in aspect ratio, but might want to test a (24, 64, 3) images for faster training"
   ]
  },
  {
   "cell_type": "code",
   "execution_count": 26,
   "metadata": {
    "collapsed": true
   },
   "outputs": [],
   "source": [
    "img_rows, img_cols = (64, 64)"
   ]
  },
  {
   "cell_type": "code",
   "execution_count": 27,
   "metadata": {
    "collapsed": false
   },
   "outputs": [
    {
     "name": "stdout",
     "output_type": "stream",
     "text": [
      "64\n",
      "64\n"
     ]
    }
   ],
   "source": [
    "print(img_rows)\n",
    "print(img_cols)"
   ]
  },
  {
   "cell_type": "code",
   "execution_count": 28,
   "metadata": {
    "collapsed": false
   },
   "outputs": [],
   "source": [
    "X_train = resize_vectorized4D(X_train, (img_rows, img_cols))\n",
    "X_valid = resize_vectorized4D(X_valid, (img_rows, img_cols))"
   ]
  },
  {
   "cell_type": "code",
   "execution_count": 29,
   "metadata": {
    "collapsed": false
   },
   "outputs": [
    {
     "name": "stdout",
     "output_type": "stream",
     "text": [
      "(518, 64, 64, 3)\n",
      "(190, 64, 64, 3)\n"
     ]
    }
   ],
   "source": [
    "print(X_train.shape)\n",
    "print(X_valid.shape)"
   ]
  },
  {
   "cell_type": "markdown",
   "metadata": {},
   "source": [
    "Visualize newly resized image."
   ]
  },
  {
   "cell_type": "code",
   "execution_count": 30,
   "metadata": {
    "collapsed": false
   },
   "outputs": [
    {
     "name": "stdout",
     "output_type": "stream",
     "text": [
      "/tmp\n"
     ]
    },
    {
     "data": {
      "image/png": "[encoded data removed]",
      "text/plain": [
       "<PIL.Image.Image image mode=RGB size=64x64 at 0x7F1CA8B6A208>"
      ]
     },
     "execution_count": 30,
     "metadata": {},
     "output_type": "execute_result"
    }
   ],
   "source": [
    "\n",
    "%cd /tmp\n",
    "img = Image.fromarray(X_train[np.random.randint(0, X_train.shape[0])], 'RGB')\n",
    "img.save(\"temp.jpg\")\n",
    "image.load_img(\"temp.jpg\")"
   ]
  },
  {
   "cell_type": "markdown",
   "metadata": {},
   "source": [
    "### Batches"
   ]
  },
  {
   "cell_type": "markdown",
   "metadata": {},
   "source": [
    "gen allows us to normalize and augment our images. We will just use it to rescale the images."
   ]
  },
  {
   "cell_type": "code",
   "execution_count": 31,
   "metadata": {
    "collapsed": true
   },
   "outputs": [],
   "source": [
    "gen = image.ImageDataGenerator(\n",
    "#                                 rescale=1. / 255 # normalize data between 0 and 1\n",
    "                              )"
   ]
  },
  {
   "cell_type": "markdown",
   "metadata": {},
   "source": [
    "Next, create the train and valid generators, these are shuffle and have a batch size of 32 by default"
   ]
  },
  {
   "cell_type": "code",
   "execution_count": 32,
   "metadata": {
    "collapsed": false
   },
   "outputs": [],
   "source": [
    "train_generator = gen.flow(X_train, Y_train)#, batch_size=batch_size, shuffle=True)\n",
    "valid_generator = gen.flow(X_valid, Y_valid)#, batch_size=batch_size, shuffle=True)\n",
    "\n",
    "# get_batches(train_path, batch_size=batch_size, \n",
    "#                             target_size=in_shape, \n",
    "#                             gen=gen)\n",
    "# val_batches   = get_batches(valid_path, batch_size=batch_size, \n",
    "#                             target_size=in_shape, \n",
    "#                             gen=gen)"
   ]
  },
  {
   "cell_type": "code",
   "execution_count": 33,
   "metadata": {
    "collapsed": false
   },
   "outputs": [
    {
     "name": "stdout",
     "output_type": "stream",
     "text": [
      "Shape of data: (64, 64, 3)\n",
      "/tmp\n"
     ]
    },
    {
     "data": {
      "image/png": "[encoded data removed]",
      "text/plain": [
       "<PIL.Image.Image image mode=RGB size=64x64 at 0x7F1CA8BDB780>"
      ]
     },
     "execution_count": 33,
     "metadata": {},
     "output_type": "execute_result"
    }
   ],
   "source": [
    "data, category = next(train_generator)\n",
    "print (\"Shape of data: {}\".format(data[0].shape))\n",
    "%cd /tmp\n",
    "img = Image.fromarray(data[np.random.randint(0, data.shape[0])].astype('uint8'), 'RGB')\n",
    "img.save(\"temp.jpg\")\n",
    "image.load_img(\"temp.jpg\")"
   ]
  },
  {
   "cell_type": "markdown",
   "metadata": {},
   "source": [
    "## Convnet"
   ]
  },
  {
   "cell_type": "markdown",
   "metadata": {},
   "source": [
    "### Constants"
   ]
  },
  {
   "cell_type": "code",
   "execution_count": 34,
   "metadata": {
    "collapsed": false
   },
   "outputs": [],
   "source": [
    "in_shape = (img_rows, img_cols, 3)"
   ]
  },
  {
   "cell_type": "markdown",
   "metadata": {},
   "source": [
    "### Model"
   ]
  },
  {
   "cell_type": "markdown",
   "metadata": {},
   "source": [
    "Our test model will use a VGG like structure with a few changes. We are removing the final activation function. We will also use either mean_absolute_error or mean_squared_error as our loss function for regression purposes."
   ]
  },
  {
   "cell_type": "code",
   "execution_count": 72,
   "metadata": {
    "collapsed": false
   },
   "outputs": [],
   "source": [
    "def get_model():\n",
    "    model = Sequential([\n",
    "        Convolution2D(32,3,3, border_mode='same', activation='relu', input_shape=in_shape),\n",
    "        MaxPooling2D(),\n",
    "        Convolution2D(64,3,3, border_mode='same', activation='relu'),\n",
    "        MaxPooling2D(),\n",
    "        Convolution2D(128,3,3, border_mode='same', activation='relu'),\n",
    "        MaxPooling2D(),\n",
    "        Flatten(),\n",
    "        Dense(2048, activation='relu'),\n",
    "        Dense(1024, activation='relu'),\n",
    "        Dense(512, activation='relu'),\n",
    "        Dense(1)\n",
    "        ])\n",
    "    model.compile(loss='mean_absolute_error', optimizer='adam')\n",
    "    return model"
   ]
  },
  {
   "cell_type": "code",
   "execution_count": 73,
   "metadata": {
    "collapsed": false
   },
   "outputs": [],
   "source": [
    "model = get_model()"
   ]
  },
  {
   "cell_type": "code",
   "execution_count": 74,
   "metadata": {
    "collapsed": false,
    "scrolled": false
   },
   "outputs": [
    {
     "name": "stdout",
     "output_type": "stream",
     "text": [
      "____________________________________________________________________________________________________\n",
      "Layer (type)                     Output Shape          Param #     Connected to                     \n",
      "====================================================================================================\n",
      "convolution2d_10 (Convolution2D) (None, 64, 64, 32)    896         convolution2d_input_4[0][0]      \n",
      "____________________________________________________________________________________________________\n",
      "maxpooling2d_10 (MaxPooling2D)   (None, 32, 32, 32)    0           convolution2d_10[0][0]           \n",
      "____________________________________________________________________________________________________\n",
      "convolution2d_11 (Convolution2D) (None, 32, 32, 64)    18496       maxpooling2d_10[0][0]            \n",
      "____________________________________________________________________________________________________\n",
      "maxpooling2d_11 (MaxPooling2D)   (None, 16, 16, 64)    0           convolution2d_11[0][0]           \n",
      "____________________________________________________________________________________________________\n",
      "convolution2d_12 (Convolution2D) (None, 16, 16, 128)   73856       maxpooling2d_11[0][0]            \n",
      "____________________________________________________________________________________________________\n",
      "maxpooling2d_12 (MaxPooling2D)   (None, 8, 8, 128)     0           convolution2d_12[0][0]           \n",
      "____________________________________________________________________________________________________\n",
      "flatten_4 (Flatten)              (None, 8192)          0           maxpooling2d_12[0][0]            \n",
      "____________________________________________________________________________________________________\n",
      "dense_13 (Dense)                 (None, 2048)          16779264    flatten_4[0][0]                  \n",
      "____________________________________________________________________________________________________\n",
      "dense_14 (Dense)                 (None, 1024)          2098176     dense_13[0][0]                   \n",
      "____________________________________________________________________________________________________\n",
      "dense_15 (Dense)                 (None, 512)           524800      dense_14[0][0]                   \n",
      "____________________________________________________________________________________________________\n",
      "dense_16 (Dense)                 (None, 1)             513         dense_15[0][0]                   \n",
      "====================================================================================================\n",
      "Total params: 19,496,001\n",
      "Trainable params: 19,496,001\n",
      "Non-trainable params: 0\n",
      "____________________________________________________________________________________________________\n"
     ]
    }
   ],
   "source": [
    "model.summary()"
   ]
  },
  {
   "cell_type": "markdown",
   "metadata": {},
   "source": [
    "### Train"
   ]
  },
  {
   "cell_type": "code",
   "execution_count": 71,
   "metadata": {
    "collapsed": true
   },
   "outputs": [
    {
     "name": "stdout",
     "output_type": "stream",
     "text": [
      "Epoch 1/150\n",
      "518/518 [==============================] - 0s - loss: 23.7471 - val_loss: 0.1020\n",
      "Epoch 2/150\n",
      "518/518 [==============================] - 0s - loss: 0.0951 - val_loss: 0.0916\n",
      "Epoch 3/150\n",
      "518/518 [==============================] - 0s - loss: 0.0786 - val_loss: 0.1243\n",
      "Epoch 4/150\n",
      "518/518 [==============================] - 0s - loss: 0.0678 - val_loss: 0.1059\n",
      "Epoch 5/150\n",
      "518/518 [==============================] - 0s - loss: 0.0487 - val_loss: 0.1113\n",
      "Epoch 6/150\n",
      "518/518 [==============================] - 0s - loss: 0.0433 - val_loss: 0.1199\n",
      "Epoch 7/150\n",
      "518/518 [==============================] - 0s - loss: 0.0447 - val_loss: 0.1207\n",
      "Epoch 8/150\n",
      "518/518 [==============================] - 0s - loss: 0.0401 - val_loss: 0.1264\n",
      "Epoch 9/150\n",
      "518/518 [==============================] - 0s - loss: 0.0357 - val_loss: 0.1218\n",
      "Epoch 10/150\n",
      "288/518 [===============>..............] - ETA: 0s - loss: 0.0360"
     ]
    },
    {
     "ename": "KeyboardInterrupt",
     "evalue": "",
     "output_type": "error",
     "traceback": [
      "\u001b[0;31m---------------------------------------\u001b[0m",
      "\u001b[0;31mKeyboardInterrupt\u001b[0mTraceback (most recent call last)",
      "\u001b[0;32m<ipython-input-71-3dea2fd91310>\u001b[0m in \u001b[0;36m<module>\u001b[0;34m()\u001b[0m\n\u001b[1;32m      4\u001b[0m                     \u001b[0mvalidation_data\u001b[0m\u001b[0;34m=\u001b[0m\u001b[0mvalid_generator\u001b[0m\u001b[0;34m,\u001b[0m\u001b[0;34m\u001b[0m\u001b[0m\n\u001b[1;32m      5\u001b[0m                     \u001b[0mnb_val_samples\u001b[0m\u001b[0;34m=\u001b[0m\u001b[0mvalid_generator\u001b[0m\u001b[0;34m.\u001b[0m\u001b[0mn\u001b[0m\u001b[0;34m,\u001b[0m\u001b[0;34m\u001b[0m\u001b[0m\n\u001b[0;32m----> 6\u001b[0;31m                     verbose=True)\n\u001b[0m",
      "\u001b[0;32m/home/nathan/anaconda3/envs/deepLearning/lib/python3.5/site-packages/keras/models.py\u001b[0m in \u001b[0;36mfit_generator\u001b[0;34m(self, generator, samples_per_epoch, nb_epoch, verbose, callbacks, validation_data, nb_val_samples, class_weight, max_q_size, nb_worker, pickle_safe, initial_epoch, **kwargs)\u001b[0m\n\u001b[1;32m    933\u001b[0m                                         \u001b[0mnb_worker\u001b[0m\u001b[0;34m=\u001b[0m\u001b[0mnb_worker\u001b[0m\u001b[0;34m,\u001b[0m\u001b[0;34m\u001b[0m\u001b[0m\n\u001b[1;32m    934\u001b[0m                                         \u001b[0mpickle_safe\u001b[0m\u001b[0;34m=\u001b[0m\u001b[0mpickle_safe\u001b[0m\u001b[0;34m,\u001b[0m\u001b[0;34m\u001b[0m\u001b[0m\n\u001b[0;32m--> 935\u001b[0;31m                                         initial_epoch=initial_epoch)\n\u001b[0m\u001b[1;32m    936\u001b[0m \u001b[0;34m\u001b[0m\u001b[0m\n\u001b[1;32m    937\u001b[0m     def evaluate_generator(self, generator, val_samples,\n",
      "\u001b[0;32m/home/nathan/anaconda3/envs/deepLearning/lib/python3.5/site-packages/keras/engine/training.py\u001b[0m in \u001b[0;36mfit_generator\u001b[0;34m(self, generator, samples_per_epoch, nb_epoch, verbose, callbacks, validation_data, nb_val_samples, class_weight, max_q_size, nb_worker, pickle_safe, initial_epoch)\u001b[0m\n\u001b[1;32m   1555\u001b[0m                     outs = self.train_on_batch(x, y,\n\u001b[1;32m   1556\u001b[0m                                                \u001b[0msample_weight\u001b[0m\u001b[0;34m=\u001b[0m\u001b[0msample_weight\u001b[0m\u001b[0;34m,\u001b[0m\u001b[0;34m\u001b[0m\u001b[0m\n\u001b[0;32m-> 1557\u001b[0;31m                                                class_weight=class_weight)\n\u001b[0m\u001b[1;32m   1558\u001b[0m \u001b[0;34m\u001b[0m\u001b[0m\n\u001b[1;32m   1559\u001b[0m                     \u001b[0;32mif\u001b[0m \u001b[0;32mnot\u001b[0m \u001b[0misinstance\u001b[0m\u001b[0;34m(\u001b[0m\u001b[0mouts\u001b[0m\u001b[0;34m,\u001b[0m \u001b[0mlist\u001b[0m\u001b[0;34m)\u001b[0m\u001b[0;34m:\u001b[0m\u001b[0;34m\u001b[0m\u001b[0m\n",
      "\u001b[0;32m/home/nathan/anaconda3/envs/deepLearning/lib/python3.5/site-packages/keras/engine/training.py\u001b[0m in \u001b[0;36mtrain_on_batch\u001b[0;34m(self, x, y, sample_weight, class_weight)\u001b[0m\n\u001b[1;32m   1318\u001b[0m             \u001b[0mins\u001b[0m \u001b[0;34m=\u001b[0m \u001b[0mx\u001b[0m \u001b[0;34m+\u001b[0m \u001b[0my\u001b[0m \u001b[0;34m+\u001b[0m \u001b[0msample_weights\u001b[0m\u001b[0;34m\u001b[0m\u001b[0m\n\u001b[1;32m   1319\u001b[0m         \u001b[0mself\u001b[0m\u001b[0;34m.\u001b[0m\u001b[0m_make_train_function\u001b[0m\u001b[0;34m(\u001b[0m\u001b[0;34m)\u001b[0m\u001b[0;34m\u001b[0m\u001b[0m\n\u001b[0;32m-> 1320\u001b[0;31m         \u001b[0moutputs\u001b[0m \u001b[0;34m=\u001b[0m \u001b[0mself\u001b[0m\u001b[0;34m.\u001b[0m\u001b[0mtrain_function\u001b[0m\u001b[0;34m(\u001b[0m\u001b[0mins\u001b[0m\u001b[0;34m)\u001b[0m\u001b[0;34m\u001b[0m\u001b[0m\n\u001b[0m\u001b[1;32m   1321\u001b[0m         \u001b[0;32mif\u001b[0m \u001b[0mlen\u001b[0m\u001b[0;34m(\u001b[0m\u001b[0moutputs\u001b[0m\u001b[0;34m)\u001b[0m \u001b[0;34m==\u001b[0m \u001b[0;36m1\u001b[0m\u001b[0;34m:\u001b[0m\u001b[0;34m\u001b[0m\u001b[0m\n\u001b[1;32m   1322\u001b[0m             \u001b[0;32mreturn\u001b[0m \u001b[0moutputs\u001b[0m\u001b[0;34m[\u001b[0m\u001b[0;36m0\u001b[0m\u001b[0;34m]\u001b[0m\u001b[0;34m\u001b[0m\u001b[0m\n",
      "\u001b[0;32m/home/nathan/anaconda3/envs/deepLearning/lib/python3.5/site-packages/keras/backend/tensorflow_backend.py\u001b[0m in \u001b[0;36m__call__\u001b[0;34m(self, inputs)\u001b[0m\n\u001b[1;32m   1941\u001b[0m         \u001b[0msession\u001b[0m \u001b[0;34m=\u001b[0m \u001b[0mget_session\u001b[0m\u001b[0;34m(\u001b[0m\u001b[0;34m)\u001b[0m\u001b[0;34m\u001b[0m\u001b[0m\n\u001b[1;32m   1942\u001b[0m         updated = session.run(self.outputs + [self.updates_op],\n\u001b[0;32m-> 1943\u001b[0;31m                               feed_dict=feed_dict)\n\u001b[0m\u001b[1;32m   1944\u001b[0m         \u001b[0;32mreturn\u001b[0m \u001b[0mupdated\u001b[0m\u001b[0;34m[\u001b[0m\u001b[0;34m:\u001b[0m\u001b[0mlen\u001b[0m\u001b[0;34m(\u001b[0m\u001b[0mself\u001b[0m\u001b[0;34m.\u001b[0m\u001b[0moutputs\u001b[0m\u001b[0;34m)\u001b[0m\u001b[0;34m]\u001b[0m\u001b[0;34m\u001b[0m\u001b[0m\n\u001b[1;32m   1945\u001b[0m \u001b[0;34m\u001b[0m\u001b[0m\n",
      "\u001b[0;32m/home/nathan/anaconda3/envs/deepLearning/lib/python3.5/site-packages/tensorflow/python/client/session.py\u001b[0m in \u001b[0;36mrun\u001b[0;34m(self, fetches, feed_dict, options, run_metadata)\u001b[0m\n\u001b[1;32m    764\u001b[0m     \u001b[0;32mtry\u001b[0m\u001b[0;34m:\u001b[0m\u001b[0;34m\u001b[0m\u001b[0m\n\u001b[1;32m    765\u001b[0m       result = self._run(None, fetches, feed_dict, options_ptr,\n\u001b[0;32m--> 766\u001b[0;31m                          run_metadata_ptr)\n\u001b[0m\u001b[1;32m    767\u001b[0m       \u001b[0;32mif\u001b[0m \u001b[0mrun_metadata\u001b[0m\u001b[0;34m:\u001b[0m\u001b[0;34m\u001b[0m\u001b[0m\n\u001b[1;32m    768\u001b[0m         \u001b[0mproto_data\u001b[0m \u001b[0;34m=\u001b[0m \u001b[0mtf_session\u001b[0m\u001b[0;34m.\u001b[0m\u001b[0mTF_GetBuffer\u001b[0m\u001b[0;34m(\u001b[0m\u001b[0mrun_metadata_ptr\u001b[0m\u001b[0;34m)\u001b[0m\u001b[0;34m\u001b[0m\u001b[0m\n",
      "\u001b[0;32m/home/nathan/anaconda3/envs/deepLearning/lib/python3.5/site-packages/tensorflow/python/client/session.py\u001b[0m in \u001b[0;36m_run\u001b[0;34m(self, handle, fetches, feed_dict, options, run_metadata)\u001b[0m\n\u001b[1;32m    962\u001b[0m     \u001b[0;32mif\u001b[0m \u001b[0mfinal_fetches\u001b[0m \u001b[0;32mor\u001b[0m \u001b[0mfinal_targets\u001b[0m\u001b[0;34m:\u001b[0m\u001b[0;34m\u001b[0m\u001b[0m\n\u001b[1;32m    963\u001b[0m       results = self._do_run(handle, final_targets, final_fetches,\n\u001b[0;32m--> 964\u001b[0;31m                              feed_dict_string, options, run_metadata)\n\u001b[0m\u001b[1;32m    965\u001b[0m     \u001b[0;32melse\u001b[0m\u001b[0;34m:\u001b[0m\u001b[0;34m\u001b[0m\u001b[0m\n\u001b[1;32m    966\u001b[0m       \u001b[0mresults\u001b[0m \u001b[0;34m=\u001b[0m \u001b[0;34m[\u001b[0m\u001b[0;34m]\u001b[0m\u001b[0;34m\u001b[0m\u001b[0m\n",
      "\u001b[0;32m/home/nathan/anaconda3/envs/deepLearning/lib/python3.5/site-packages/tensorflow/python/client/session.py\u001b[0m in \u001b[0;36m_do_run\u001b[0;34m(self, handle, target_list, fetch_list, feed_dict, options, run_metadata)\u001b[0m\n\u001b[1;32m   1012\u001b[0m     \u001b[0;32mif\u001b[0m \u001b[0mhandle\u001b[0m \u001b[0;32mis\u001b[0m \u001b[0;32mNone\u001b[0m\u001b[0;34m:\u001b[0m\u001b[0;34m\u001b[0m\u001b[0m\n\u001b[1;32m   1013\u001b[0m       return self._do_call(_run_fn, self._session, feed_dict, fetch_list,\n\u001b[0;32m-> 1014\u001b[0;31m                            target_list, options, run_metadata)\n\u001b[0m\u001b[1;32m   1015\u001b[0m     \u001b[0;32melse\u001b[0m\u001b[0;34m:\u001b[0m\u001b[0;34m\u001b[0m\u001b[0m\n\u001b[1;32m   1016\u001b[0m       return self._do_call(_prun_fn, self._session, handle, feed_dict,\n",
      "\u001b[0;32m/home/nathan/anaconda3/envs/deepLearning/lib/python3.5/site-packages/tensorflow/python/client/session.py\u001b[0m in \u001b[0;36m_do_call\u001b[0;34m(self, fn, *args)\u001b[0m\n\u001b[1;32m   1019\u001b[0m   \u001b[0;32mdef\u001b[0m \u001b[0m_do_call\u001b[0m\u001b[0;34m(\u001b[0m\u001b[0mself\u001b[0m\u001b[0;34m,\u001b[0m \u001b[0mfn\u001b[0m\u001b[0;34m,\u001b[0m \u001b[0;34m*\u001b[0m\u001b[0margs\u001b[0m\u001b[0;34m)\u001b[0m\u001b[0;34m:\u001b[0m\u001b[0;34m\u001b[0m\u001b[0m\n\u001b[1;32m   1020\u001b[0m     \u001b[0;32mtry\u001b[0m\u001b[0;34m:\u001b[0m\u001b[0;34m\u001b[0m\u001b[0m\n\u001b[0;32m-> 1021\u001b[0;31m       \u001b[0;32mreturn\u001b[0m \u001b[0mfn\u001b[0m\u001b[0;34m(\u001b[0m\u001b[0;34m*\u001b[0m\u001b[0margs\u001b[0m\u001b[0;34m)\u001b[0m\u001b[0;34m\u001b[0m\u001b[0m\n\u001b[0m\u001b[1;32m   1022\u001b[0m     \u001b[0;32mexcept\u001b[0m \u001b[0merrors\u001b[0m\u001b[0;34m.\u001b[0m\u001b[0mOpError\u001b[0m \u001b[0;32mas\u001b[0m \u001b[0me\u001b[0m\u001b[0;34m:\u001b[0m\u001b[0;34m\u001b[0m\u001b[0m\n\u001b[1;32m   1023\u001b[0m       \u001b[0mmessage\u001b[0m \u001b[0;34m=\u001b[0m \u001b[0mcompat\u001b[0m\u001b[0;34m.\u001b[0m\u001b[0mas_text\u001b[0m\u001b[0;34m(\u001b[0m\u001b[0me\u001b[0m\u001b[0;34m.\u001b[0m\u001b[0mmessage\u001b[0m\u001b[0;34m)\u001b[0m\u001b[0;34m\u001b[0m\u001b[0m\n",
      "\u001b[0;32m/home/nathan/anaconda3/envs/deepLearning/lib/python3.5/site-packages/tensorflow/python/client/session.py\u001b[0m in \u001b[0;36m_run_fn\u001b[0;34m(session, feed_dict, fetch_list, target_list, options, run_metadata)\u001b[0m\n\u001b[1;32m   1001\u001b[0m         return tf_session.TF_Run(session, options,\n\u001b[1;32m   1002\u001b[0m                                  \u001b[0mfeed_dict\u001b[0m\u001b[0;34m,\u001b[0m \u001b[0mfetch_list\u001b[0m\u001b[0;34m,\u001b[0m \u001b[0mtarget_list\u001b[0m\u001b[0;34m,\u001b[0m\u001b[0;34m\u001b[0m\u001b[0m\n\u001b[0;32m-> 1003\u001b[0;31m                                  status, run_metadata)\n\u001b[0m\u001b[1;32m   1004\u001b[0m \u001b[0;34m\u001b[0m\u001b[0m\n\u001b[1;32m   1005\u001b[0m     \u001b[0;32mdef\u001b[0m \u001b[0m_prun_fn\u001b[0m\u001b[0;34m(\u001b[0m\u001b[0msession\u001b[0m\u001b[0;34m,\u001b[0m \u001b[0mhandle\u001b[0m\u001b[0;34m,\u001b[0m \u001b[0mfeed_dict\u001b[0m\u001b[0;34m,\u001b[0m \u001b[0mfetch_list\u001b[0m\u001b[0;34m)\u001b[0m\u001b[0;34m:\u001b[0m\u001b[0;34m\u001b[0m\u001b[0m\n",
      "\u001b[0;31mKeyboardInterrupt\u001b[0m: "
     ]
    }
   ],
   "source": [
    "history = model.fit_generator(train_generator, \n",
    "                    samples_per_epoch=train_generator.n,\n",
    "                    nb_epoch=150,\n",
    "                    validation_data=valid_generator,\n",
    "                    nb_val_samples=valid_generator.n,\n",
    "                    verbose=True)"
   ]
  },
  {
   "cell_type": "code",
   "execution_count": 57,
   "metadata": {
    "collapsed": false
   },
   "outputs": [
    {
     "name": "stdout",
     "output_type": "stream",
     "text": [
      "/home/nathan/olin/spring2017/line-follower/line-follower/data\n"
     ]
    }
   ],
   "source": [
    "# %cd $DATA_HOME_DIR\n",
    "# model.save_weights('epoche_150_square.h5')"
   ]
  },
  {
   "cell_type": "code",
   "execution_count": 75,
   "metadata": {
    "collapsed": false
   },
   "outputs": [
    {
     "name": "stdout",
     "output_type": "stream",
     "text": [
      "/home/nathan/olin/spring2017/line-follower/line-follower/data\n"
     ]
    }
   ],
   "source": [
    "%cd $DATA_HOME_DIR\n",
    "model.load_weights('epoche_2500.h5')"
   ]
  },
  {
   "cell_type": "markdown",
   "metadata": {},
   "source": [
    "### Visualize Training"
   ]
  },
  {
   "cell_type": "code",
   "execution_count": 50,
   "metadata": {
    "collapsed": false
   },
   "outputs": [],
   "source": [
    "val_plot = np.convolve(history.history['val_loss'], np.repeat(1/10, 10), mode='valid')\n",
    "train_plot = np.convolve(history.history['loss'], np.repeat(1/10, 10), mode='valid')"
   ]
  },
  {
   "cell_type": "code",
   "execution_count": 55,
   "metadata": {
    "collapsed": false
   },
   "outputs": [
    {
     "data": {
      "text/plain": [
       "<matplotlib.axes._subplots.AxesSubplot at 0x7f1c905fb3c8>"
      ]
     },
     "execution_count": 55,
     "metadata": {},
     "output_type": "execute_result"
    },
    {
     "data": {
      "image/png": "[encoded data removed]",
      "text/plain": [
       "<matplotlib.figure.Figure at 0x7f1c90622828>"
      ]
     },
     "metadata": {},
     "output_type": "display_data"
    }
   ],
   "source": [
    "sns.tsplot(val_plot)"
   ]
  },
  {
   "cell_type": "code",
   "execution_count": 76,
   "metadata": {
    "collapsed": false
   },
   "outputs": [
    {
     "name": "stdout",
     "output_type": "stream",
     "text": [
      "-0.000000 | 0.000023\n",
      "-0.000000 | 0.000248\n",
      "-0.000000 | -0.062274\n",
      "-0.000000 | -0.039846\n",
      "-0.000000 | -0.034767\n",
      "-0.021652 | -0.076689\n",
      "-0.031636 | -0.045172\n",
      "-0.000000 | -0.038887\n",
      "-0.000000 | -0.033863\n",
      "-0.000000 | 0.000343\n",
      "0.049128 | 0.005424\n",
      "0.151478 | 0.000525\n",
      "0.178935 | -0.041115\n",
      "0.233858 | 0.042791\n",
      "0.261315 | 0.003587\n",
      "0.193911 | 0.011053\n",
      "0.173942 | 0.003587\n",
      "0.119028 | 0.069693\n",
      "0.084074 | 0.000343\n",
      "0.014183 | 0.000343\n",
      "-0.000000 | 0.000343\n",
      "0.029159 | -0.041461\n",
      "0.001702 | -0.041461\n",
      "-0.000000 | 0.000379\n",
      "-0.000000 | 0.000379\n",
      "-0.000000 | 0.000343\n",
      "-0.000000 | 0.036479\n",
      "-0.000000 | 0.001080\n",
      "-0.000000 | -0.048218\n",
      "0.046632 | 0.009877\n",
      "0.300000 | 0.043255\n",
      "0.300000 | 0.041751\n",
      "0.300000 | 0.041751\n",
      "0.300000 | -0.079364\n",
      "0.300000 | -0.052325\n",
      "0.300000 | 0.092927\n",
      "-0.000000 | 0.044087\n",
      "-0.000000 | -0.000495\n",
      "-0.099040 | -0.055633\n",
      "-0.044117 | 0.000343\n",
      "-0.000000 | -0.016230\n",
      "-0.000000 | -0.078628\n",
      "-0.000000 | 0.000347\n",
      "-0.000000 | -0.010777\n",
      "-0.000000 | 0.060072\n",
      "-0.000000 | 0.071711\n",
      "0.104052 | 0.060775\n",
      "0.096564 | 0.017903\n",
      "0.034152 | -0.060189\n",
      "0.106548 | 0.025873\n",
      "0.178935 | -0.000977\n",
      "0.166454 | -0.075613\n",
      "0.129013 | -0.066720\n",
      "0.129013 | 0.030065\n",
      "0.126517 | -0.001334\n",
      "0.126517 | 0.000193\n",
      "0.039144 | 0.021728\n",
      "0.116532 | 0.060851\n",
      "0.136501 | 0.055004\n",
      "0.021671 | 0.000539\n",
      "-0.000000 | 0.000343\n",
      "0.049128 | 0.000309\n",
      "-0.000000 | 0.000343\n",
      "-0.000000 | 0.000343\n",
      "-0.000000 | 0.000500\n",
      "-0.000000 | -0.031104\n",
      "0.064105 | -0.001821\n",
      "0.300000 | -0.029031\n",
      "0.300000 | 0.038588\n",
      "0.300000 | -0.047035\n",
      "0.300000 | 0.045440\n",
      "0.064105 | 0.053689\n",
      "0.041640 | 0.000424\n",
      "0.081577 | 0.000344\n",
      "0.148982 | 0.000239\n",
      "-0.031636 | -0.081138\n",
      "-0.046613 | -0.089127\n",
      "-0.086550 | -0.069934\n",
      "-0.000000 | -0.069934\n",
      "-0.000000 | -0.039072\n",
      "-0.000000 | -0.000423\n",
      "-0.000000 | 0.000985\n",
      "-0.000000 | -0.001589\n",
      "-0.000000 | 0.000343\n",
      "0.009191 | 0.000435\n",
      "0.163958 | 0.000637\n",
      "0.213890 | 0.003108\n",
      "0.213890 | 0.083641\n",
      "0.213890 | 0.037389\n",
      "0.216386 | -0.000507\n",
      "0.263811 | -0.000507\n",
      "0.138997 | 0.079790\n",
      "-0.000000 | -0.025842\n",
      "-0.000000 | 0.000241\n",
      "-0.000000 | 0.000343\n",
      "0.000000 | 0.000365\n",
      "0.000000 | 0.015098\n",
      "0.000000 | 0.000343\n",
      "0.000000 | 0.000343\n",
      "0.000000 | 0.078917\n",
      "0.021652 | 0.082493\n",
      "0.031636 | 0.067356\n",
      "0.000000 | 0.000648\n",
      "0.000000 | 0.000343\n",
      "0.000000 | 0.000343\n",
      "-0.049128 | -0.007343\n",
      "-0.151478 | 0.010617\n",
      "-0.178935 | 0.070740\n",
      "-0.233858 | 0.008695\n",
      "-0.261315 | -0.074796\n",
      "-0.193911 | 0.047616\n",
      "-0.173942 | -0.096899\n",
      "-0.119028 | -0.081745\n",
      "-0.084074 | -0.002423\n",
      "-0.014183 | 0.000661\n",
      "0.000000 | 0.020629\n",
      "-0.029159 | 0.001459\n",
      "-0.001702 | 0.001459\n",
      "0.000000 | 0.000412\n",
      "0.000000 | 0.000412\n",
      "0.000000 | 0.000245\n",
      "0.000000 | 0.016270\n",
      "0.000000 | 0.081841\n",
      "0.000000 | -0.000071\n",
      "-0.046632 | -0.079776\n",
      "-0.300000 | -0.050567\n",
      "-0.300000 | 0.000151\n",
      "-0.300000 | 0.000151\n",
      "-0.300000 | 0.002386\n",
      "-0.300000 | 0.002737\n",
      "-0.300000 | -0.089478\n",
      "0.000000 | 0.015490\n",
      "0.000000 | 0.071329\n",
      "0.099040 | 0.066258\n",
      "0.044117 | 0.000200\n",
      "0.000000 | 0.000343\n",
      "0.000000 | 0.044022\n",
      "0.000000 | 0.000343\n",
      "0.000000 | 0.012968\n",
      "0.000000 | -0.015995\n",
      "0.000000 | -0.047893\n",
      "-0.104052 | 0.003587\n",
      "-0.096564 | 0.081354\n",
      "-0.034152 | -0.001455\n",
      "-0.106548 | 0.001381\n",
      "-0.178935 | 0.053958\n",
      "-0.166454 | 0.061484\n",
      "-0.129013 | -0.045562\n",
      "-0.129013 | -0.003459\n",
      "-0.126517 | -0.012376\n",
      "-0.126517 | 0.076757\n",
      "-0.039144 | -0.082728\n",
      "-0.116532 | -0.071445\n",
      "-0.136501 | -0.093309\n",
      "-0.021671 | -0.028895\n",
      "0.000000 | -0.078487\n",
      "-0.049128 | 0.000082\n",
      "0.000000 | 0.000343\n",
      "0.000000 | -0.002871\n",
      "0.000000 | -0.102173\n",
      "0.000000 | -0.028889\n",
      "-0.064105 | 0.023167\n",
      "-0.300000 | 0.037553\n",
      "-0.300000 | -0.018327\n",
      "-0.300000 | 0.017606\n",
      "-0.300000 | -0.009430\n",
      "-0.064105 | -0.001064\n",
      "-0.041640 | -0.001932\n",
      "-0.081577 | 0.000343\n",
      "-0.148982 | 0.000343\n",
      "0.031636 | 0.072798\n",
      "0.046613 | 0.088919\n",
      "0.086550 | 0.134267\n",
      "0.000000 | 0.134267\n",
      "0.000000 | 0.000343\n",
      "0.000000 | 0.017799\n",
      "0.000000 | 0.000342\n",
      "0.000000 | 0.000343\n",
      "0.000000 | 0.000343\n",
      "-0.009191 | 0.000343\n",
      "-0.163958 | -0.003291\n",
      "-0.213890 | 0.072140\n",
      "-0.213890 | 0.011485\n",
      "-0.213890 | 0.046184\n",
      "-0.216386 | -0.071105\n",
      "-0.263811 | -0.071105\n",
      "-0.138997 | -0.049243\n",
      "0.000000 | 0.000343\n",
      "0.000000 | 0.000416\n",
      "0.000000 | 0.000519\n"
     ]
    }
   ],
   "source": [
    "X_preds = model.predict(X_valid).reshape(X_valid.shape[0],)\n",
    "for i in range(len(X_valid)):\n",
    "    print(\"{:07f} | {:07f}\".format(Y_valid[i], X_preds[i]))"
   ]
  },
  {
   "cell_type": "code",
   "execution_count": 77,
   "metadata": {
    "collapsed": false,
    "scrolled": true
   },
   "outputs": [
    {
     "name": "stdout",
     "output_type": "stream",
     "text": [
      "-0.000000 | 0.000343\n",
      "-0.000000 | 0.000343\n",
      "-0.000000 | 0.042263\n",
      "0.006695 | 0.000851\n",
      "-0.000000 | 0.000343\n",
      "-0.000000 | 0.000918\n",
      "-0.000000 | 0.000343\n",
      "-0.000000 | 0.000343\n",
      "-0.000000 | 0.013546\n",
      "-0.006675 | 0.013546\n",
      "-0.300000 | -0.000280\n",
      "-0.300000 | -0.000280\n",
      "-0.300000 | -0.008237\n",
      "-0.300000 | 0.023744\n",
      "-0.300000 | 0.003587\n",
      "-0.000000 | -0.064452\n",
      "-0.000000 | -0.028688\n",
      "-0.151458 | -0.028688\n",
      "-0.041621 | 0.000343\n",
      "0.006695 | 0.000485\n",
      "-0.000000 | 0.044193\n",
      "-0.000000 | 0.064389\n",
      "-0.000000 | 0.002993\n",
      "0.046632 | 0.009014\n",
      "-0.000000 | 0.000343\n",
      "-0.000000 | 0.000343\n",
      "-0.009171 | 0.001085\n",
      "-0.300000 | -0.000092\n",
      "-0.300000 | 0.001086\n",
      "-0.091552 | 0.042219\n",
      "-0.223855 | 0.062609\n",
      "-0.273777 | -0.036530\n",
      "-0.221359 | -0.001348\n",
      "-0.000000 | -0.000856\n",
      "-0.000000 | 0.000519\n",
      "-0.034132 | 0.001065\n",
      "-0.061589 | -0.026303\n",
      "-0.041621 | -0.005071\n",
      "-0.000000 | 0.000387\n",
      "-0.000000 | -0.000296\n",
      "-0.000000 | 0.000447\n",
      "-0.000000 | -0.000097\n",
      "-0.000000 | 0.000343\n",
      "-0.000000 | 0.000301\n",
      "-0.000000 | 0.000158\n",
      "-0.041621 | 0.012068\n",
      "-0.071574 | 0.010476\n",
      "-0.143970 | 0.000926\n",
      "-0.248816 | 0.019203\n",
      "-0.296241 | -0.042417\n",
      "-0.298738 | 0.000835\n",
      "-0.223855 | -0.065672\n",
      "-0.183908 | -0.093887\n",
      "-0.000000 | 0.000343\n",
      "-0.000000 | -0.000815\n",
      "-0.101537 | -0.000832\n",
      "-0.000000 | 0.000343\n",
      "-0.000000 | 0.000343\n",
      "-0.000000 | 0.000343\n",
      "-0.000000 | 0.000343\n",
      "-0.000000 | -0.064607\n",
      "-0.124001 | -0.050323\n",
      "-0.086550 | -0.054074\n",
      "-0.071574 | 0.000715\n",
      "-0.136482 | -0.063122\n",
      "-0.188900 | 0.008049\n",
      "-0.168931 | 0.006984\n",
      "-0.141474 | -0.077788\n",
      "-0.171427 | 0.057422\n",
      "-0.171427 | 0.074425\n",
      "-0.171427 | -0.073257\n",
      "-0.000000 | -0.057446\n",
      "-0.000000 | -0.000716\n",
      "-0.074070 | -0.015859\n",
      "-0.000000 | -0.078844\n",
      "-0.000000 | -0.039086\n",
      "-0.009171 | 0.000343\n",
      "-0.016660 | 0.058159\n",
      "-0.000000 | -0.001348\n",
      "-0.024148 | 0.023971\n",
      "-0.000000 | 0.001860\n",
      "-0.000000 | -0.039840\n",
      "-0.059093 | 0.075242\n",
      "-0.141474 | 0.000913\n",
      "-0.246320 | 0.045433\n",
      "-0.300000 | -0.008455\n",
      "-0.300000 | 0.025095\n",
      "-0.143970 | -0.053526\n",
      "-0.114017 | -0.089972\n",
      "-0.216366 | -0.094375\n",
      "-0.236335 | -0.039239\n",
      "-0.000000 | 0.054753\n",
      "-0.000000 | 0.094133\n",
      "0.173942 | 0.081604\n",
      "-0.000000 | 0.065117\n",
      "-0.000000 | 0.000321\n",
      "-0.000000 | 0.042272\n",
      "-0.101537 | 0.000343\n",
      "-0.034132 | 0.000343\n",
      "-0.148962 | 0.045735\n",
      "-0.176419 | 0.007083\n",
      "-0.124001 | 0.028179\n",
      "-0.111521 | 0.007288\n",
      "-0.173923 | 0.024580\n",
      "-0.059093 | 0.000223\n",
      "-0.186404 | 0.002463\n",
      "-0.258800 | -0.072880\n",
      "-0.133986 | -0.054100\n",
      "-0.000000 | 0.011113\n",
      "-0.000000 | -0.001377\n",
      "-0.009171 | -0.008352\n",
      "-0.049109 | -0.006256\n",
      "-0.019156 | -0.017672\n",
      "-0.016660 | 0.000342\n",
      "-0.000000 | 0.000207\n",
      "-0.000000 | 0.000343\n",
      "-0.000000 | 0.000343\n",
      "-0.000000 | 0.000343\n",
      "-0.000000 | -0.087121\n",
      "-0.056597 | 0.005001\n",
      "-0.126497 | 0.001528\n",
      "-0.286257 | 0.062457\n",
      "-0.300000 | -0.029860\n",
      "-0.300000 | 0.047659\n",
      "-0.300000 | 0.000214\n",
      "-0.096544 | -0.079241\n",
      "-0.009171 | 0.000343\n",
      "-0.000000 | -0.035519\n",
      "-0.000000 | -0.000782\n",
      "-0.009171 | -0.002810\n",
      "-0.036628 | -0.079353\n",
      "-0.046613 | -0.000284\n",
      "-0.051605 | -0.102905\n",
      "-0.051605 | -0.001134\n",
      "-0.051605 | 0.000289\n",
      "-0.051605 | -0.050365\n",
      "-0.081558 | -0.005832\n",
      "-0.101537 | -0.052892\n",
      "-0.101537 | -0.051296\n",
      "-0.101537 | 0.037419\n",
      "-0.188900 | 0.001015\n",
      "-0.191396 | 0.000540\n",
      "-0.196388 | -0.035834\n",
      "-0.216366 | 0.003587\n",
      "-0.218863 | -0.102272\n",
      "-0.000000 | 0.000343\n",
      "-0.000000 | 0.000343\n",
      "0.024167 | 0.000343\n",
      "0.071593 | 0.000204\n",
      "-0.000000 | 0.000343\n",
      "-0.000000 | 0.000228\n",
      "-0.000000 | 0.000343\n",
      "-0.000000 | 0.010112\n",
      "-0.000000 | 0.000343\n",
      "-0.000000 | -0.063822\n",
      "-0.000000 | -0.076765\n",
      "-0.034132 | -0.008081\n",
      "-0.171427 | 0.068102\n",
      "-0.283761 | -0.045466\n",
      "-0.300000 | -0.004461\n",
      "-0.300000 | -0.023404\n",
      "-0.300000 | -0.023404\n",
      "-0.300000 | -0.087040\n",
      "-0.000000 | 0.000343\n",
      "0.223874 | 0.067269\n",
      "-0.000000 | -0.079444\n",
      "-0.000000 | -0.049550\n",
      "-0.128994 | -0.048794\n",
      "-0.069078 | -0.001573\n",
      "-0.000000 | 0.000366\n",
      "-0.000000 | -0.000076\n",
      "-0.000000 | 0.000706\n",
      "-0.000000 | 0.000192\n",
      "-0.089046 | -0.050324\n",
      "-0.138978 | -0.000409\n",
      "-0.276273 | 0.018794\n",
      "-0.216366 | 0.019665\n",
      "-0.136482 | 0.022725\n",
      "-0.228847 | 0.025277\n",
      "-0.263792 | -0.001453\n",
      "-0.000000 | -0.005392\n",
      "-0.000000 | -0.049609\n",
      "-0.049109 | -0.052931\n",
      "-0.114017 | -0.005818\n",
      "-0.000000 | 0.000279\n",
      "0.021671 | 0.000402\n",
      "0.011687 | 0.000116\n",
      "-0.000000 | 0.000343\n",
      "-0.000000 | 0.000518\n",
      "-0.000000 | -0.000224\n",
      "-0.000000 | 0.000376\n",
      "-0.046613 | 0.000217\n",
      "-0.059093 | 0.027139\n",
      "-0.061589 | 0.002000\n",
      "-0.151458 | -0.007060\n",
      "-0.211374 | -0.000167\n",
      "-0.298738 | 0.073923\n",
      "-0.300000 | 0.034671\n",
      "-0.084054 | -0.000487\n",
      "-0.201390 | 0.072539\n",
      "-0.203886 | -0.074651\n",
      "-0.000000 | -0.007323\n",
      "-0.000000 | 0.006820\n",
      "0.016679 | 0.000343\n",
      "-0.000000 | 0.000343\n",
      "-0.000000 | -0.035014\n",
      "-0.000000 | -0.095794\n",
      "-0.054101 | -0.093568\n",
      "-0.089046 | -0.085755\n",
      "-0.124001 | -0.085755\n",
      "-0.138978 | 0.001280\n",
      "-0.081558 | -0.046541\n",
      "-0.119009 | -0.048582\n",
      "-0.148962 | 0.056778\n",
      "-0.124001 | 0.030711\n",
      "-0.121505 | 0.059906\n",
      "-0.203886 | 0.003587\n",
      "-0.221359 | 0.007577\n",
      "-0.143970 | -0.039412\n",
      "-0.000000 | -0.061547\n",
      "-0.000000 | 0.000343\n",
      "-0.000000 | 0.000343\n",
      "-0.000000 | 0.001057\n",
      "-0.000000 | -0.000002\n",
      "-0.000000 | 0.000343\n",
      "-0.000000 | 0.001250\n",
      "-0.000000 | 0.000343\n",
      "-0.000000 | -0.000248\n",
      "-0.000000 | -0.079099\n",
      "-0.000000 | 0.036005\n",
      "-0.096544 | -0.010796\n",
      "-0.101537 | 0.069953\n",
      "-0.226351 | -0.071634\n",
      "-0.300000 | 0.034496\n",
      "-0.300000 | 0.000896\n",
      "-0.300000 | 0.000389\n",
      "-0.208878 | -0.022209\n",
      "-0.101537 | -0.059089\n",
      "-0.158947 | -0.073988\n",
      "0.096564 | 0.072402\n",
      "0.071593 | 0.041953\n",
      "0.101556 | 0.002031\n",
      "-0.071574 | 0.000343\n",
      "-0.000000 | 0.000221\n",
      "-0.054101 | 0.000344\n",
      "-0.000000 | 0.002181\n",
      "-0.044117 | 0.000343\n",
      "-0.111521 | 0.003587\n",
      "-0.198894 | 0.029606\n",
      "-0.261296 | 0.016882\n",
      "-0.054101 | -0.000252\n",
      "-0.136482 | 0.009608\n",
      "-0.166435 | 0.050820\n",
      "-0.216366 | 0.003587\n",
      "-0.109025 | -0.010431\n",
      "-0.151458 | -0.048864\n",
      "-0.000000 | 0.000394\n",
      "-0.000000 | -0.000164\n",
      "-0.000000 | 0.000282\n",
      "0.000000 | 0.000343\n",
      "0.000000 | 0.000343\n",
      "0.000000 | 0.002117\n",
      "-0.006695 | 0.000332\n",
      "0.000000 | 0.000343\n",
      "0.000000 | 0.000343\n",
      "0.000000 | 0.000343\n",
      "0.000000 | 0.000343\n",
      "0.000000 | 0.019199\n",
      "0.006675 | 0.019199\n",
      "0.300000 | 0.052942\n",
      "0.300000 | 0.052942\n",
      "0.300000 | -0.027838\n",
      "0.300000 | 0.067720\n",
      "0.300000 | 0.060799\n",
      "0.000000 | 0.067901\n",
      "0.000000 | 0.004899\n",
      "0.151458 | 0.004899\n",
      "0.041621 | 0.000343\n",
      "-0.006695 | -0.042062\n",
      "0.000000 | -0.039322\n",
      "0.000000 | -0.030118\n",
      "0.000000 | -0.029708\n",
      "-0.046632 | 0.000343\n",
      "0.000000 | 0.000343\n",
      "0.000000 | 0.073509\n",
      "0.009171 | 0.068305\n",
      "0.300000 | -0.073450\n",
      "0.300000 | 0.000332\n",
      "0.091552 | 0.029378\n",
      "0.223855 | -0.000916\n",
      "0.273777 | -0.025313\n",
      "0.221359 | 0.057113\n",
      "0.000000 | 0.000361\n",
      "0.000000 | 0.000731\n",
      "0.034132 | -0.053153\n",
      "0.061589 | 0.000440\n",
      "0.041621 | 0.000395\n",
      "0.000000 | 0.001396\n",
      "0.000000 | 0.000581\n",
      "0.000000 | 0.000343\n",
      "0.000000 | 0.000461\n",
      "0.000000 | 0.000381\n",
      "0.000000 | 0.004473\n",
      "0.000000 | 0.004528\n",
      "0.041621 | -0.086311\n",
      "0.071574 | -0.061888\n",
      "0.143970 | -0.041503\n",
      "0.248816 | -0.019255\n",
      "0.296241 | 0.038223\n",
      "0.298738 | -0.038046\n",
      "0.223855 | 0.000343\n",
      "0.183908 | 0.014346\n",
      "0.000000 | -0.031806\n",
      "0.000000 | 0.000343\n",
      "0.101537 | 0.000326\n",
      "0.000000 | 0.000343\n",
      "0.000000 | 0.088856\n",
      "0.000000 | 0.000173\n",
      "0.000000 | 0.000173\n",
      "0.000000 | 0.067779\n",
      "0.124001 | 0.000343\n",
      "0.086550 | -0.079671\n",
      "0.071574 | 0.066286\n",
      "0.136482 | 0.069729\n",
      "0.188900 | -0.046541\n",
      "0.168931 | 0.026166\n",
      "0.141474 | 0.058060\n",
      "0.171427 | -0.001289\n",
      "0.171427 | 0.051831\n",
      "0.171427 | 0.003587\n",
      "0.000000 | 0.085740\n",
      "0.000000 | 0.000343\n",
      "0.074070 | 0.079135\n",
      "0.000000 | 0.000343\n",
      "0.000000 | 0.000358\n",
      "0.009171 | 0.000286\n",
      "0.016660 | 0.000855\n",
      "0.000000 | -0.006391\n",
      "0.024148 | 0.067447\n",
      "0.000000 | -0.000384\n",
      "0.000000 | 0.004712\n",
      "0.059093 | -0.061834\n",
      "0.141474 | 0.059497\n",
      "0.246320 | 0.061720\n",
      "0.300000 | 0.016568\n",
      "0.300000 | 0.047150\n",
      "0.143970 | -0.024555\n",
      "0.114017 | 0.098483\n",
      "0.216366 | 0.099663\n",
      "0.236335 | 0.000682\n",
      "0.000000 | -0.048107\n",
      "0.000000 | -0.108148\n",
      "-0.173942 | -0.088991\n",
      "0.000000 | 0.000343\n",
      "0.000000 | -0.049102\n",
      "0.000000 | 0.000343\n",
      "0.101537 | -0.000828\n",
      "0.034132 | 0.000343\n",
      "0.148962 | 0.101386\n",
      "0.176419 | 0.037669\n",
      "0.124001 | -0.055004\n",
      "0.111521 | 0.001582\n",
      "0.173923 | 0.000416\n",
      "0.059093 | -0.000486\n",
      "0.186404 | -0.019843\n",
      "0.258800 | 0.043532\n",
      "0.133986 | 0.094980\n",
      "0.000000 | -0.052421\n",
      "0.000000 | 0.000436\n",
      "0.009171 | 0.000433\n",
      "0.049109 | 0.000334\n",
      "0.019156 | 0.000343\n",
      "0.016660 | 0.004986\n",
      "0.000000 | 0.000432\n",
      "0.000000 | 0.000406\n",
      "0.000000 | 0.002516\n",
      "0.000000 | 0.002516\n",
      "0.000000 | -0.073222\n",
      "0.056597 | -0.074138\n",
      "0.126497 | -0.029993\n",
      "0.286257 | 0.009879\n",
      "0.300000 | -0.009849\n",
      "0.300000 | -0.045938\n",
      "0.300000 | 0.002173\n",
      "0.096544 | 0.103019\n",
      "0.009171 | 0.000343\n",
      "0.000000 | 0.000821\n",
      "0.000000 | 0.000343\n",
      "0.009171 | 0.000343\n",
      "0.036628 | 0.000888\n",
      "0.046613 | 0.077349\n",
      "0.051605 | 0.155858\n",
      "0.051605 | 0.081903\n",
      "0.051605 | 0.000632\n",
      "0.051605 | 0.122016\n",
      "0.081558 | 0.027711\n",
      "0.101537 | -0.078763\n",
      "0.101537 | 0.045190\n",
      "0.101537 | 0.003587\n",
      "0.188900 | 0.015578\n",
      "0.191396 | -0.000927\n",
      "0.196388 | 0.048456\n",
      "0.216366 | -0.040568\n",
      "0.218863 | 0.056517\n",
      "0.000000 | 0.000343\n",
      "0.000000 | -0.079025\n",
      "-0.024167 | -0.000357\n",
      "-0.071593 | -0.000500\n",
      "0.000000 | 0.000343\n",
      "0.000000 | 0.001361\n",
      "0.000000 | 0.000352\n",
      "0.000000 | 0.000325\n",
      "0.000000 | 0.001104\n",
      "0.000000 | 0.004267\n",
      "0.000000 | -0.038947\n",
      "0.034132 | -0.046358\n",
      "0.171427 | -0.050928\n",
      "0.283761 | 0.016320\n",
      "0.300000 | 0.013100\n",
      "0.300000 | 0.001920\n",
      "0.300000 | 0.001920\n",
      "0.300000 | 0.166610\n",
      "0.000000 | 0.000303\n",
      "-0.223874 | -0.093199\n",
      "0.000000 | 0.013516\n",
      "0.000000 | 0.000358\n",
      "0.128994 | 0.049812\n",
      "0.069078 | 0.001423\n",
      "0.000000 | 0.000669\n",
      "0.000000 | 0.000173\n",
      "0.000000 | 0.078845\n",
      "0.000000 | 0.003060\n",
      "0.089046 | -0.049732\n",
      "0.138978 | 0.040913\n",
      "0.276273 | 0.012357\n",
      "0.216366 | -0.000035\n",
      "0.136482 | -0.001716\n",
      "0.228847 | -0.082136\n",
      "0.263792 | 0.085107\n",
      "0.000000 | 0.000901\n",
      "0.000000 | 0.002083\n",
      "0.049109 | -0.052045\n",
      "0.114017 | -0.000355\n",
      "0.000000 | -0.000011\n",
      "-0.021671 | 0.000366\n",
      "-0.011687 | 0.004906\n",
      "0.000000 | 0.000296\n",
      "0.000000 | -0.044363\n",
      "0.000000 | 0.000263\n",
      "0.000000 | 0.000419\n",
      "0.046613 | 0.000351\n",
      "0.059093 | -0.052234\n",
      "0.061589 | -0.087773\n",
      "0.151458 | 0.020004\n",
      "0.211374 | -0.002776\n",
      "0.298738 | 0.019587\n",
      "0.300000 | 0.001137\n",
      "0.084054 | 0.000139\n",
      "0.201390 | 0.003587\n",
      "0.203886 | 0.100423\n",
      "0.000000 | 0.001059\n",
      "0.000000 | 0.000289\n",
      "-0.016679 | 0.002006\n",
      "0.000000 | 0.000925\n",
      "0.000000 | 0.106211\n",
      "0.000000 | 0.073409\n",
      "0.054101 | 0.046840\n",
      "0.089046 | 0.027958\n",
      "0.124001 | 0.027958\n",
      "0.138978 | 0.115365\n",
      "0.081558 | 0.000325\n",
      "0.119009 | 0.065655\n",
      "0.148962 | 0.005980\n",
      "0.124001 | 0.037010\n",
      "0.121505 | -0.000093\n",
      "0.203886 | -0.043594\n",
      "0.221359 | -0.001742\n",
      "0.143970 | 0.067679\n",
      "0.000000 | 0.000470\n",
      "0.000000 | 0.016963\n",
      "0.000000 | 0.000343\n",
      "0.000000 | 0.000464\n",
      "0.000000 | 0.000734\n",
      "0.000000 | 0.053084\n",
      "0.000000 | 0.000310\n",
      "0.000000 | -0.000150\n",
      "0.000000 | 0.000793\n",
      "0.000000 | 0.001565\n",
      "0.000000 | -0.009284\n",
      "0.096544 | -0.023623\n",
      "0.101537 | 0.031043\n",
      "0.226351 | 0.003587\n",
      "0.300000 | -0.032106\n",
      "0.300000 | 0.078812\n",
      "0.300000 | 0.015455\n",
      "0.208878 | 0.121697\n",
      "0.101537 | 0.000031\n",
      "0.158947 | 0.000413\n",
      "-0.096564 | -0.146117\n",
      "-0.071593 | -0.035321\n",
      "-0.101556 | -0.074851\n",
      "0.071574 | 0.001238\n",
      "0.000000 | 0.000343\n",
      "0.054101 | 0.000343\n",
      "0.000000 | 0.000343\n",
      "0.044117 | 0.017292\n",
      "0.111521 | 0.098685\n",
      "0.198894 | 0.068936\n",
      "0.261296 | 0.001001\n",
      "0.054101 | -0.030199\n",
      "0.136482 | 0.038939\n",
      "0.166435 | -0.075902\n",
      "0.216366 | 0.000614\n",
      "0.109025 | 0.073292\n",
      "0.151458 | 0.062325\n",
      "0.000000 | 0.000254\n",
      "0.000000 | 0.000342\n",
      "0.000000 | 0.000343\n"
     ]
    }
   ],
   "source": [
    "X_train_preds = model.predict(X_train).reshape(X_train.shape[0],)\n",
    "for i in range(len(X_train_preds)):\n",
    "    print(\"{:07f} | {:07f}\".format(Y_train[i], X_train_preds[i]))"
   ]
  },
  {
   "cell_type": "markdown",
   "metadata": {
    "collapsed": true
   },
   "source": [
    "Notes\n",
    "* 32 by 32 images are too small resolution for regression\n",
    "* 64 by 64 seemed to work really well\n",
    "* Moving average plot to see val_loss over time is really nice\n",
    "* Can take up to 2000 epochs to reach a nice minimum"
   ]
  },
  {
   "cell_type": "code",
   "execution_count": 78,
   "metadata": {
    "collapsed": false,
    "scrolled": true
   },
   "outputs": [
    {
     "data": {
      "text/plain": [
       "(190,)"
      ]
     },
     "execution_count": 78,
     "metadata": {},
     "output_type": "execute_result"
    }
   ],
   "source": [
    "X_preds.shape"
   ]
  },
  {
   "cell_type": "code",
   "execution_count": null,
   "metadata": {
    "collapsed": false
   },
   "outputs": [],
   "source": [
    "X_train_preds.shape"
   ]
  },
  {
   "cell_type": "code",
   "execution_count": null,
   "metadata": {
    "collapsed": false
   },
   "outputs": [],
   "source": [
    "np.savetxt(\"X_train_valid.csv\", X_preds, fmt='%.18e', delimiter=',', newline='\\n')\n",
    "np.savetxt(\"X_train_preds.csv\", X_train_preds, fmt='%.18e', delimiter=',', newline='\\n')"
   ]
  },
  {
   "cell_type": "markdown",
   "metadata": {},
   "source": [
    "## Layer play"
   ]
  },
  {
   "cell_type": "code",
   "execution_count": 79,
   "metadata": {
    "collapsed": false
   },
   "outputs": [
    {
     "data": {
      "text/plain": [
       "11"
      ]
     },
     "execution_count": 79,
     "metadata": {},
     "output_type": "execute_result"
    }
   ],
   "source": [
    "len(model.layers)"
   ]
  },
  {
   "cell_type": "code",
   "execution_count": 80,
   "metadata": {
    "collapsed": false
   },
   "outputs": [],
   "source": [
    "model.pop()"
   ]
  },
  {
   "cell_type": "code",
   "execution_count": 81,
   "metadata": {
    "collapsed": false
   },
   "outputs": [
    {
     "data": {
      "text/plain": [
       "10"
      ]
     },
     "execution_count": 81,
     "metadata": {},
     "output_type": "execute_result"
    }
   ],
   "source": [
    "len(model.layers)"
   ]
  },
  {
   "cell_type": "code",
   "execution_count": 82,
   "metadata": {
    "collapsed": true
   },
   "outputs": [],
   "source": [
    "model.compile(loss='mean_absolute_error', optimizer='adam')"
   ]
  },
  {
   "cell_type": "code",
   "execution_count": 83,
   "metadata": {
    "collapsed": false
   },
   "outputs": [
    {
     "name": "stdout",
     "output_type": "stream",
     "text": [
      "____________________________________________________________________________________________________\n",
      "Layer (type)                     Output Shape          Param #     Connected to                     \n",
      "====================================================================================================\n",
      "convolution2d_10 (Convolution2D) (None, 64, 64, 32)    896         convolution2d_input_4[0][0]      \n",
      "____________________________________________________________________________________________________\n",
      "maxpooling2d_10 (MaxPooling2D)   (None, 32, 32, 32)    0           convolution2d_10[0][0]           \n",
      "____________________________________________________________________________________________________\n",
      "convolution2d_11 (Convolution2D) (None, 32, 32, 64)    18496       maxpooling2d_10[0][0]            \n",
      "____________________________________________________________________________________________________\n",
      "maxpooling2d_11 (MaxPooling2D)   (None, 16, 16, 64)    0           convolution2d_11[0][0]           \n",
      "____________________________________________________________________________________________________\n",
      "convolution2d_12 (Convolution2D) (None, 16, 16, 128)   73856       maxpooling2d_11[0][0]            \n",
      "____________________________________________________________________________________________________\n",
      "maxpooling2d_12 (MaxPooling2D)   (None, 8, 8, 128)     0           convolution2d_12[0][0]           \n",
      "____________________________________________________________________________________________________\n",
      "flatten_4 (Flatten)              (None, 8192)          0           maxpooling2d_12[0][0]            \n",
      "____________________________________________________________________________________________________\n",
      "dense_13 (Dense)                 (None, 2048)          16779264    flatten_4[0][0]                  \n",
      "____________________________________________________________________________________________________\n",
      "dense_14 (Dense)                 (None, 1024)          2098176     dense_13[0][0]                   \n",
      "____________________________________________________________________________________________________\n",
      "dense_15 (Dense)                 (None, 512)           524800      dense_14[0][0]                   \n",
      "====================================================================================================\n",
      "Total params: 19,495,488\n",
      "Trainable params: 19,495,488\n",
      "Non-trainable params: 0\n",
      "____________________________________________________________________________________________________\n"
     ]
    }
   ],
   "source": [
    "model.summary()"
   ]
  },
  {
   "cell_type": "code",
   "execution_count": 84,
   "metadata": {
    "collapsed": false
   },
   "outputs": [],
   "source": [
    "X_train_features = model.predict(X_train)\n",
    "X_valid_features = model.predict(X_valid)"
   ]
  },
  {
   "cell_type": "code",
   "execution_count": 87,
   "metadata": {
    "collapsed": false
   },
   "outputs": [
    {
     "name": "stdout",
     "output_type": "stream",
     "text": [
      "/home/nathan/olin/spring2017/line-follower/line-follower/data/qea-square_2\n"
     ]
    }
   ],
   "source": [
    "%cd $train_path\n",
    "save_array(\"X_train_features.b\", X_train_features)"
   ]
  },
  {
   "cell_type": "code",
   "execution_count": 88,
   "metadata": {
    "collapsed": false
   },
   "outputs": [
    {
     "name": "stdout",
     "output_type": "stream",
     "text": [
      "/home/nathan/olin/spring2017/line-follower/line-follower/data/qea-square_3\n"
     ]
    }
   ],
   "source": [
    "%cd $valid_path\n",
    "save_array(\"X_train_features.b\", X_valid_features)"
   ]
  },
  {
   "cell_type": "code",
   "execution_count": 66,
   "metadata": {
    "collapsed": false
   },
   "outputs": [
    {
     "data": {
      "text/plain": [
       "array([  5.33585669e-03,   1.66742444e-01,   0.00000000e+00,\n",
       "         0.00000000e+00,   0.00000000e+00,   6.98533207e-02,\n",
       "         4.81044203e-02,   0.00000000e+00,   0.00000000e+00,\n",
       "         0.00000000e+00,   0.00000000e+00,   5.29092811e-02,\n",
       "         0.00000000e+00,   0.00000000e+00,   0.00000000e+00,\n",
       "         0.00000000e+00,   0.00000000e+00,   0.00000000e+00,\n",
       "         0.00000000e+00,   6.03598133e-02,   0.00000000e+00,\n",
       "         0.00000000e+00,   0.00000000e+00,   0.00000000e+00,\n",
       "         1.43573746e-01,   0.00000000e+00,   0.00000000e+00,\n",
       "         0.00000000e+00,   1.31637305e-01,   0.00000000e+00,\n",
       "         1.29797995e-01,   4.59849834e-03,   0.00000000e+00,\n",
       "         0.00000000e+00,   0.00000000e+00,   1.19216651e-01,\n",
       "         0.00000000e+00,   0.00000000e+00,   0.00000000e+00,\n",
       "         0.00000000e+00,   0.00000000e+00,   0.00000000e+00,\n",
       "         0.00000000e+00,   0.00000000e+00,   0.00000000e+00,\n",
       "         1.15265340e-01,   0.00000000e+00,   0.00000000e+00,\n",
       "         1.74763855e-02,   0.00000000e+00,   0.00000000e+00,\n",
       "         0.00000000e+00,   0.00000000e+00,   0.00000000e+00,\n",
       "         0.00000000e+00,   0.00000000e+00,   1.41091287e-01,\n",
       "         0.00000000e+00,   0.00000000e+00,   5.78792021e-02,\n",
       "         7.69021511e-02,   1.17596738e-01,   0.00000000e+00,\n",
       "         1.53578535e-01,   0.00000000e+00,   1.06487423e-02,\n",
       "         0.00000000e+00,   1.12360984e-01,   0.00000000e+00,\n",
       "         0.00000000e+00,   0.00000000e+00,   1.00351147e-01,\n",
       "         0.00000000e+00,   0.00000000e+00,   1.22998632e-01,\n",
       "         0.00000000e+00,   0.00000000e+00,   0.00000000e+00,\n",
       "         1.45406574e-01,   0.00000000e+00,   0.00000000e+00,\n",
       "         0.00000000e+00,   0.00000000e+00,   0.00000000e+00,\n",
       "         0.00000000e+00,   5.18576056e-02,   0.00000000e+00,\n",
       "         0.00000000e+00,   0.00000000e+00,   0.00000000e+00,\n",
       "         0.00000000e+00,   0.00000000e+00,   0.00000000e+00,\n",
       "         0.00000000e+00,   7.42418915e-02,   1.88369542e-01,\n",
       "         0.00000000e+00,   0.00000000e+00,   3.14505808e-02,\n",
       "         0.00000000e+00,   1.00152105e-01,   0.00000000e+00,\n",
       "         0.00000000e+00,   0.00000000e+00,   0.00000000e+00,\n",
       "         3.63653451e-02,   0.00000000e+00,   0.00000000e+00,\n",
       "         0.00000000e+00,   0.00000000e+00,   0.00000000e+00,\n",
       "         0.00000000e+00,   0.00000000e+00,   0.00000000e+00,\n",
       "         0.00000000e+00,   1.73947774e-03,   0.00000000e+00,\n",
       "         0.00000000e+00,   0.00000000e+00,   0.00000000e+00,\n",
       "         4.66094203e-02,   0.00000000e+00,   0.00000000e+00,\n",
       "         8.68415758e-02,   6.10847771e-02,   0.00000000e+00,\n",
       "         0.00000000e+00,   0.00000000e+00,   0.00000000e+00,\n",
       "         2.74375342e-02,   0.00000000e+00,   8.51068869e-02,\n",
       "         0.00000000e+00,   0.00000000e+00,   0.00000000e+00,\n",
       "         0.00000000e+00,   0.00000000e+00,   1.00571983e-01,\n",
       "         1.30469054e-01,   0.00000000e+00,   4.94052619e-02,\n",
       "         0.00000000e+00,   0.00000000e+00,   0.00000000e+00,\n",
       "         0.00000000e+00,   0.00000000e+00,   0.00000000e+00,\n",
       "         0.00000000e+00,   7.66839460e-02,   0.00000000e+00,\n",
       "         8.45693871e-02,   9.85244289e-02,   0.00000000e+00,\n",
       "         2.70483531e-02,   0.00000000e+00,   8.17744061e-03,\n",
       "         0.00000000e+00,   0.00000000e+00,   0.00000000e+00,\n",
       "         1.17985634e-02,   0.00000000e+00,   0.00000000e+00,\n",
       "         9.04400051e-02,   0.00000000e+00,   0.00000000e+00,\n",
       "         0.00000000e+00,   2.41305009e-01,   0.00000000e+00,\n",
       "         0.00000000e+00,   0.00000000e+00,   0.00000000e+00,\n",
       "         0.00000000e+00,   0.00000000e+00,   0.00000000e+00,\n",
       "         0.00000000e+00,   0.00000000e+00,   0.00000000e+00,\n",
       "         0.00000000e+00,   0.00000000e+00,   0.00000000e+00,\n",
       "         1.71870720e-02,   0.00000000e+00,   0.00000000e+00,\n",
       "         0.00000000e+00,   2.11546704e-01,   0.00000000e+00,\n",
       "         0.00000000e+00,   0.00000000e+00,   1.39539987e-01,\n",
       "         0.00000000e+00,   0.00000000e+00,   0.00000000e+00,\n",
       "         0.00000000e+00,   0.00000000e+00,   0.00000000e+00,\n",
       "         0.00000000e+00,   0.00000000e+00,   0.00000000e+00,\n",
       "         7.78448135e-02,   0.00000000e+00,   0.00000000e+00,\n",
       "         0.00000000e+00,   0.00000000e+00,   7.17469901e-02,\n",
       "         0.00000000e+00,   0.00000000e+00,   0.00000000e+00,\n",
       "         0.00000000e+00,   0.00000000e+00,   0.00000000e+00,\n",
       "         0.00000000e+00,   0.00000000e+00,   4.16631624e-02,\n",
       "         4.10271920e-02,   0.00000000e+00,   0.00000000e+00,\n",
       "         0.00000000e+00,   2.79806610e-02,   0.00000000e+00,\n",
       "         0.00000000e+00,   0.00000000e+00,   0.00000000e+00,\n",
       "         0.00000000e+00,   0.00000000e+00,   0.00000000e+00,\n",
       "         0.00000000e+00,   6.68042079e-02,   0.00000000e+00,\n",
       "         0.00000000e+00,   0.00000000e+00,   0.00000000e+00,\n",
       "         0.00000000e+00,   0.00000000e+00,   0.00000000e+00,\n",
       "         1.81976967e-02,   0.00000000e+00,   1.35041505e-01,\n",
       "         0.00000000e+00,   6.73009381e-02,   1.12800747e-01,\n",
       "         0.00000000e+00,   8.31092298e-02,   0.00000000e+00,\n",
       "         1.31092399e-01,   0.00000000e+00,   0.00000000e+00,\n",
       "         0.00000000e+00,   0.00000000e+00,   3.09824422e-02,\n",
       "         0.00000000e+00,   0.00000000e+00,   1.12563796e-01,\n",
       "         0.00000000e+00,   0.00000000e+00,   0.00000000e+00,\n",
       "         5.87227419e-02,   0.00000000e+00,   0.00000000e+00,\n",
       "         0.00000000e+00,   0.00000000e+00,   2.20601968e-02,\n",
       "         0.00000000e+00,   0.00000000e+00,   4.12270240e-02,\n",
       "         0.00000000e+00,   0.00000000e+00,   0.00000000e+00,\n",
       "         6.67221695e-02,   0.00000000e+00,   0.00000000e+00,\n",
       "         5.07541467e-04,   9.68511850e-02,   0.00000000e+00,\n",
       "         0.00000000e+00,   0.00000000e+00,   0.00000000e+00,\n",
       "         1.17117114e-01,   0.00000000e+00,   0.00000000e+00,\n",
       "         0.00000000e+00,   4.12697531e-02,   0.00000000e+00,\n",
       "         0.00000000e+00,   0.00000000e+00,   0.00000000e+00,\n",
       "         0.00000000e+00,   5.99456280e-02,   0.00000000e+00,\n",
       "         9.35310274e-02,   0.00000000e+00,   0.00000000e+00,\n",
       "         0.00000000e+00,   0.00000000e+00,   0.00000000e+00,\n",
       "         0.00000000e+00,   0.00000000e+00,   0.00000000e+00,\n",
       "         0.00000000e+00,   0.00000000e+00,   0.00000000e+00,\n",
       "         0.00000000e+00,   0.00000000e+00,   4.87281606e-02,\n",
       "         0.00000000e+00,   0.00000000e+00,   0.00000000e+00,\n",
       "         0.00000000e+00,   4.63590845e-02,   0.00000000e+00,\n",
       "         0.00000000e+00,   4.72154692e-02,   0.00000000e+00,\n",
       "         8.49589929e-02,   6.90163299e-02,   1.35354191e-01,\n",
       "         0.00000000e+00,   0.00000000e+00,   0.00000000e+00,\n",
       "         0.00000000e+00,   0.00000000e+00,   0.00000000e+00,\n",
       "         0.00000000e+00,   6.69190213e-02,   0.00000000e+00,\n",
       "         1.25470087e-01,   1.18459851e-01,   0.00000000e+00,\n",
       "         0.00000000e+00,   0.00000000e+00,   0.00000000e+00,\n",
       "         0.00000000e+00,   0.00000000e+00,   0.00000000e+00,\n",
       "         1.62527606e-01,   0.00000000e+00,   0.00000000e+00,\n",
       "         1.04353279e-01,   3.48776132e-02,   0.00000000e+00,\n",
       "         2.46389247e-02,   1.94320112e-01,   0.00000000e+00,\n",
       "         0.00000000e+00,   0.00000000e+00,   0.00000000e+00,\n",
       "         0.00000000e+00,   0.00000000e+00,   5.99912368e-04,\n",
       "         0.00000000e+00,   0.00000000e+00,   0.00000000e+00,\n",
       "         0.00000000e+00,   0.00000000e+00,   0.00000000e+00,\n",
       "         0.00000000e+00,   0.00000000e+00,   0.00000000e+00,\n",
       "         0.00000000e+00,   0.00000000e+00,   1.19977407e-01,\n",
       "         0.00000000e+00,   2.06710324e-02,   0.00000000e+00,\n",
       "         0.00000000e+00,   0.00000000e+00,   0.00000000e+00,\n",
       "         0.00000000e+00,   0.00000000e+00,   5.15974648e-02,\n",
       "         1.22078627e-01,   1.26571223e-01,   0.00000000e+00,\n",
       "         0.00000000e+00,   0.00000000e+00,   1.43365577e-01,\n",
       "         0.00000000e+00,   0.00000000e+00,   0.00000000e+00,\n",
       "         0.00000000e+00,   6.41760677e-02,   9.19401646e-06,\n",
       "         0.00000000e+00,   0.00000000e+00,   0.00000000e+00,\n",
       "         0.00000000e+00,   7.61530772e-02,   0.00000000e+00,\n",
       "         0.00000000e+00,   0.00000000e+00,   0.00000000e+00,\n",
       "         0.00000000e+00,   0.00000000e+00,   0.00000000e+00,\n",
       "         0.00000000e+00,   0.00000000e+00,   6.90038055e-02,\n",
       "         0.00000000e+00,   0.00000000e+00,   0.00000000e+00,\n",
       "         0.00000000e+00,   9.82714072e-03,   0.00000000e+00,\n",
       "         0.00000000e+00,   0.00000000e+00,   2.33781673e-02,\n",
       "         0.00000000e+00,   0.00000000e+00,   0.00000000e+00,\n",
       "         0.00000000e+00,   3.81550565e-02,   0.00000000e+00,\n",
       "         7.86186755e-02,   0.00000000e+00,   0.00000000e+00,\n",
       "         6.90116957e-02,   0.00000000e+00,   0.00000000e+00,\n",
       "         0.00000000e+00,   0.00000000e+00,   9.41878110e-02,\n",
       "         0.00000000e+00,   0.00000000e+00,   0.00000000e+00,\n",
       "         0.00000000e+00,   0.00000000e+00,   6.47767633e-02,\n",
       "         0.00000000e+00,   0.00000000e+00,   1.13802098e-01,\n",
       "         0.00000000e+00,   1.01020761e-01,   2.94052988e-01,\n",
       "         0.00000000e+00,   0.00000000e+00,   0.00000000e+00,\n",
       "         0.00000000e+00,   1.16348758e-01,   0.00000000e+00,\n",
       "         1.51174873e-01,   0.00000000e+00,   0.00000000e+00,\n",
       "         0.00000000e+00,   0.00000000e+00,   0.00000000e+00,\n",
       "         0.00000000e+00,   0.00000000e+00,   0.00000000e+00,\n",
       "         0.00000000e+00,   7.22413957e-02,   0.00000000e+00,\n",
       "         0.00000000e+00,   0.00000000e+00,   0.00000000e+00,\n",
       "         0.00000000e+00,   0.00000000e+00,   0.00000000e+00,\n",
       "         1.97437629e-02,   0.00000000e+00,   0.00000000e+00,\n",
       "         0.00000000e+00,   0.00000000e+00,   0.00000000e+00,\n",
       "         2.21219696e-02,   1.05015919e-01,   0.00000000e+00,\n",
       "         0.00000000e+00,   0.00000000e+00,   0.00000000e+00,\n",
       "         6.59291893e-02,   0.00000000e+00,   0.00000000e+00,\n",
       "         0.00000000e+00,   7.68319368e-02,   0.00000000e+00,\n",
       "         0.00000000e+00,   0.00000000e+00,   0.00000000e+00,\n",
       "         0.00000000e+00,   0.00000000e+00,   0.00000000e+00,\n",
       "         0.00000000e+00,   0.00000000e+00,   0.00000000e+00,\n",
       "         0.00000000e+00,   0.00000000e+00,   0.00000000e+00,\n",
       "         0.00000000e+00,   0.00000000e+00,   1.79329306e-01,\n",
       "         1.51024386e-01,   0.00000000e+00,   0.00000000e+00,\n",
       "         3.11941020e-02,   1.08992748e-01,   0.00000000e+00,\n",
       "         0.00000000e+00,   0.00000000e+00,   0.00000000e+00,\n",
       "         9.85137746e-02,   0.00000000e+00,   0.00000000e+00,\n",
       "         0.00000000e+00,   0.00000000e+00,   0.00000000e+00,\n",
       "         0.00000000e+00,   0.00000000e+00,   0.00000000e+00,\n",
       "         1.51641458e-01,   0.00000000e+00,   0.00000000e+00,\n",
       "         0.00000000e+00,   6.95274249e-02], dtype=float32)"
      ]
     },
     "execution_count": 66,
     "metadata": {},
     "output_type": "execute_result"
    }
   ],
   "source": [
    "X_train_features[9]"
   ]
  },
  {
   "cell_type": "code",
   "execution_count": null,
   "metadata": {
    "collapsed": true
   },
   "outputs": [],
   "source": [
    "def get_model_lstm():\n",
    "    model = Sequential([\n",
    "        Convolution2D(32,3,3, border_mode='same', activation='relu', input_shape=in_shape),\n",
    "        MaxPooling2D(),\n",
    "        Convolution2D(64,3,3, border_mode='same', activation='relu'),\n",
    "        MaxPooling2D(),\n",
    "        Convolution2D(128,3,3, border_mode='same', activation='relu'),\n",
    "        MaxPooling2D(),\n",
    "        Flatten(),\n",
    "        Dense(2048, activation='relu'),\n",
    "        Dense(1024, activation='relu'),\n",
    "        Dense(512, activation='relu'),\n",
    "        Dense(1)\n",
    "        ])\n",
    "    model.compile(loss='mean_absolute_error', optimizer='adam')\n",
    "    return model"
   ]
  }
 ],
 "metadata": {
  "anaconda-cloud": {},
  "kernelspec": {
   "display_name": "Python [conda env:deepLearning]",
   "language": "python",
   "name": "conda-env-deepLearning-py"
  },
  "language_info": {
   "codemirror_mode": {
    "name": "ipython",
    "version": 3
   },
   "file_extension": ".py",
   "mimetype": "text/x-python",
   "name": "python",
   "nbconvert_exporter": "python",
   "pygments_lexer": "ipython3",
   "version": "3.5.2"
  }
 },
 "nbformat": 4,
 "nbformat_minor": 1
}
