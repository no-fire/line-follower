{
 "cells": [
  {
   "cell_type": "markdown",
   "metadata": {},
   "source": [
    "# Convert Pictures to Numpy"
   ]
  },
  {
   "cell_type": "code",
   "execution_count": 1,
   "metadata": {
    "collapsed": true
   },
   "outputs": [],
   "source": [
    "#Create references to important directories we will use over and over\n",
    "import os, sys\n",
    "current_dir = os.getcwd()\n",
    "SCRIPTS_HOME_DIR = current_dir\n",
    "DATA_HOME_DIR = current_dir+'/data'"
   ]
  },
  {
   "cell_type": "code",
   "execution_count": 2,
   "metadata": {
    "collapsed": false
   },
   "outputs": [],
   "source": [
    "from glob import glob\n",
    "import numpy as np\n",
    "import _pickle as pickle\n",
    "import PIL\n",
    "from PIL import Image\n",
    "from PIL import ImageOps\n",
    "from tqdm import tqdm\n",
    "import bcolz"
   ]
  },
  {
   "cell_type": "markdown",
   "metadata": {},
   "source": [
    "## Iterate through pictures in directory\n",
    "Assuming X_train exists as ordered images  \n",
    "Y_train is csv file"
   ]
  },
  {
   "cell_type": "code",
   "execution_count": 3,
   "metadata": {
    "collapsed": true
   },
   "outputs": [],
   "source": []
  },
  {
   "cell_type": "code",
   "execution_count": 17,
   "metadata": {
    "collapsed": false
   },
   "outputs": [],
   "source": []
  },
  {
   "cell_type": "code",
   "execution_count": 26,
   "metadata": {
    "collapsed": false
   },
   "outputs": [
    {
     "name": "stderr",
     "output_type": "stream",
     "text": [
      "\n",
      "0it [00:00, ?it/s]\u001b[A\n",
      "754it [00:00, 389759.09it/s]\u001b[A"
     ]
    }
   ],
   "source": [
    "for i, image_path in tqdm(enumerate(g)):\n",
    "    os.rename(image_path, \"{0:0>4}.jpg\".format(i))"
   ]
  },
  {
   "cell_type": "code",
   "execution_count": 33,
   "metadata": {
    "collapsed": false
   },
   "outputs": [],
   "source": []
  },
  {
   "cell_type": "code",
   "execution_count": 52,
   "metadata": {
    "collapsed": false
   },
   "outputs": [],
   "source": [
    "def folder_to_numpy(data_folder):\n",
    "    \"\"\"\n",
    "    Read sorted pictures (by filename) in a folder to a numpy array\n",
    "    \n",
    "    Args:\n",
    "        data_folder (str): The relative folder from DATA_HOME_DIR\n",
    "        \n",
    "    Returns:\n",
    "        picture_array (np array): The numpy array in tensorflow format\n",
    "    \"\"\"\n",
    "    # change directory\n",
    "    image_directory_full = DATA_HOME_DIR + data_folder\n",
    "    print (\"Moving to directory: \" + image_directory_full)\n",
    "    os.chdir(image_directory_full)\n",
    "    \n",
    "    # read in filenames from directory\n",
    "    g = glob('*.png')\n",
    "    if len(g) == 0:\n",
    "        g = glob('*.jpg')\n",
    "    print (\"Found {} pictures\".format(len(g)))\n",
    "    \n",
    "    # sort filenames\n",
    "    g.sort()\n",
    "    \n",
    "    # open and convert images to numpy array\n",
    "    picture_arrays = np.array([np.array(Image.open(image_path)) for image_path in g])\n",
    "    \n",
    "    # reshape to tensorflow format\n",
    "    picture_arrays = picture_arrays.reshape(*picture_arrays.shape, 1)\n",
    "    print (\"Shape of output: {}\".format(picture_arrays.shape))\n",
    "    \n",
    "    # return array\n",
    "    return picture_arrays"
   ]
  },
  {
   "cell_type": "code",
   "execution_count": 53,
   "metadata": {
    "collapsed": false
   },
   "outputs": [
    {
     "name": "stdout",
     "output_type": "stream",
     "text": [
      "Moving to directory: /home/nathan/olin/spring2017/line-follower/line-follower/src/old_lane_follower_past_project/data/train/binary/forward\n",
      "Found 754 pictures\n",
      "Shape of output: (754, 16, 32, 1)\n"
     ]
    }
   ],
   "source": [
    "data_folder = '/train/binary/forward'\n",
    "X_train = folder_to_numpy(data_folder)"
   ]
  },
  {
   "cell_type": "code",
   "execution_count": null,
   "metadata": {
    "collapsed": true
   },
   "outputs": [],
   "source": []
  }
 ],
 "metadata": {
  "anaconda-cloud": {},
  "kernelspec": {
   "display_name": "Python [conda env:deepLearning]",
   "language": "python",
   "name": "conda-env-deepLearning-py"
  },
  "language_info": {
   "codemirror_mode": {
    "name": "ipython",
    "version": 3
   },
   "file_extension": ".py",
   "mimetype": "text/x-python",
   "name": "python",
   "nbconvert_exporter": "python",
   "pygments_lexer": "ipython3",
   "version": "3.5.2"
  }
 },
 "nbformat": 4,
 "nbformat_minor": 1
}
