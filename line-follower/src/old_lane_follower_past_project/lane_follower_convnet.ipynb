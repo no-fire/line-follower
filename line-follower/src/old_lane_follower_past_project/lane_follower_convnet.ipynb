{
 "cells": [
  {
   "cell_type": "markdown",
   "metadata": {},
   "source": [
    "# Lane Follower - CompRobo17"
   ]
  },
  {
   "cell_type": "markdown",
   "metadata": {},
   "source": [
    "## Imports and Directories"
   ]
  },
  {
   "cell_type": "code",
   "execution_count": 1,
   "metadata": {
    "collapsed": false
   },
   "outputs": [],
   "source": [
    "#Create references to important directories we will use over and over\n",
    "import os, sys\n",
    "current_dir = os.getcwd()\n",
    "SCRIPTS_HOME_DIR = current_dir\n",
    "DATA_HOME_DIR = current_dir+'/data'"
   ]
  },
  {
   "cell_type": "code",
   "execution_count": 2,
   "metadata": {
    "collapsed": false
   },
   "outputs": [
    {
     "name": "stderr",
     "output_type": "stream",
     "text": [
      "Using TensorFlow backend.\n"
     ]
    }
   ],
   "source": [
    "#import modules\n",
    "from utils import *\n",
    "%matplotlib inline"
   ]
  },
  {
   "cell_type": "code",
   "execution_count": 3,
   "metadata": {
    "collapsed": false
   },
   "outputs": [
    {
     "name": "stdout",
     "output_type": "stream",
     "text": [
      "/home/nathan/olin/spring2017/line-follower/line-follower/src/old_lane_follower_past_project/data\n"
     ]
    }
   ],
   "source": [
    "%cd $DATA_HOME_DIR\n",
    "\n",
    "#Set path to sample/ path if desired\n",
    "path = DATA_HOME_DIR\n",
    "train_path=path + '/train/binary/'\n",
    "valid_path=path + '/valid/binary/'"
   ]
  },
  {
   "cell_type": "markdown",
   "metadata": {},
   "source": [
    "## Convnet"
   ]
  },
  {
   "cell_type": "markdown",
   "metadata": {},
   "source": [
    "### Constants"
   ]
  },
  {
   "cell_type": "code",
   "execution_count": 4,
   "metadata": {
    "collapsed": true
   },
   "outputs": [],
   "source": [
    "img_rows, img_cols = 16, 32\n",
    "in_shape = (img_rows, img_cols)\n",
    "batch_size = 64\n",
    "nb_classes = 3"
   ]
  },
  {
   "cell_type": "markdown",
   "metadata": {},
   "source": [
    "### Batches"
   ]
  },
  {
   "cell_type": "code",
   "execution_count": 5,
   "metadata": {
    "collapsed": true
   },
   "outputs": [],
   "source": [
    "gen = image.ImageDataGenerator(rescale=1. / 255)"
   ]
  },
  {
   "cell_type": "code",
   "execution_count": 6,
   "metadata": {
    "collapsed": false
   },
   "outputs": [
    {
     "name": "stdout",
     "output_type": "stream",
     "text": [
      "Found 938 images belonging to 3 classes.\n",
      "Found 536 images belonging to 3 classes.\n"
     ]
    }
   ],
   "source": [
    "train_batches = get_batches(train_path, batch_size=batch_size, \n",
    "                            target_size=in_shape, color_mode=\"grayscale\", \n",
    "                            gen=gen)\n",
    "val_batches   = get_batches(valid_path, batch_size=batch_size, \n",
    "                            target_size=in_shape, color_mode=\"grayscale\", \n",
    "                            gen=gen)"
   ]
  },
  {
   "cell_type": "markdown",
   "metadata": {},
   "source": [
    "### Model"
   ]
  },
  {
   "cell_type": "code",
   "execution_count": 7,
   "metadata": {
    "collapsed": true
   },
   "outputs": [],
   "source": [
    "def get_model():\n",
    "    model = Sequential([\n",
    "        Convolution2D(32,3,3, border_mode='same', activation='relu', input_shape=(img_rows, img_cols, 1)),\n",
    "        MaxPooling2D(),\n",
    "        Convolution2D(64,3,3, border_mode='same', activation='relu'),\n",
    "        MaxPooling2D(),\n",
    "        Flatten(),\n",
    "        Dense(1024, activation='relu'),\n",
    "        Dense(nb_classes, activation='softmax')\n",
    "        ])\n",
    "    model.compile(Adam(), loss='categorical_crossentropy', metrics=['accuracy'])\n",
    "    return model"
   ]
  },
  {
   "cell_type": "code",
   "execution_count": 8,
   "metadata": {
    "collapsed": false
   },
   "outputs": [],
   "source": [
    "model = get_model()"
   ]
  },
  {
   "cell_type": "code",
   "execution_count": 9,
   "metadata": {
    "collapsed": false
   },
   "outputs": [
    {
     "name": "stdout",
     "output_type": "stream",
     "text": [
      "____________________________________________________________________________________________________\n",
      "Layer (type)                     Output Shape          Param #     Connected to                     \n",
      "====================================================================================================\n",
      "convolution2d_1 (Convolution2D)  (None, 16, 32, 32)    320         convolution2d_input_1[0][0]      \n",
      "____________________________________________________________________________________________________\n",
      "maxpooling2d_1 (MaxPooling2D)    (None, 8, 16, 32)     0           convolution2d_1[0][0]            \n",
      "____________________________________________________________________________________________________\n",
      "convolution2d_2 (Convolution2D)  (None, 8, 16, 64)     18496       maxpooling2d_1[0][0]             \n",
      "____________________________________________________________________________________________________\n",
      "maxpooling2d_2 (MaxPooling2D)    (None, 4, 8, 64)      0           convolution2d_2[0][0]            \n",
      "____________________________________________________________________________________________________\n",
      "flatten_1 (Flatten)              (None, 2048)          0           maxpooling2d_2[0][0]             \n",
      "____________________________________________________________________________________________________\n",
      "dense_1 (Dense)                  (None, 1024)          2098176     flatten_1[0][0]                  \n",
      "____________________________________________________________________________________________________\n",
      "dense_2 (Dense)                  (None, 3)             3075        dense_1[0][0]                    \n",
      "====================================================================================================\n",
      "Total params: 2,120,067\n",
      "Trainable params: 2,120,067\n",
      "Non-trainable params: 0\n",
      "____________________________________________________________________________________________________\n"
     ]
    }
   ],
   "source": [
    "model.summary()"
   ]
  },
  {
   "cell_type": "markdown",
   "metadata": {},
   "source": [
    "### Train"
   ]
  },
  {
   "cell_type": "code",
   "execution_count": 10,
   "metadata": {
    "collapsed": false
   },
   "outputs": [
    {
     "name": "stdout",
     "output_type": "stream",
     "text": [
      "Epoch 1/30\n",
      "938/938 [==============================] - 1s - loss: 0.4869 - acc: 0.7974 - val_loss: 0.3188 - val_acc: 0.8825\n",
      "Epoch 2/30\n",
      "938/938 [==============================] - 0s - loss: 0.3347 - acc: 0.8657 - val_loss: 0.3301 - val_acc: 0.8563\n",
      "Epoch 3/30\n",
      "938/938 [==============================] - 0s - loss: 0.3041 - acc: 0.8902 - val_loss: 0.3378 - val_acc: 0.8638\n",
      "Epoch 4/30\n",
      "938/938 [==============================] - 0s - loss: 0.2828 - acc: 0.8955 - val_loss: 0.3611 - val_acc: 0.8433\n",
      "Epoch 5/30\n",
      "938/938 [==============================] - 0s - loss: 0.2642 - acc: 0.8987 - val_loss: 0.3474 - val_acc: 0.8619\n",
      "Epoch 6/30\n",
      "938/938 [==============================] - 0s - loss: 0.2501 - acc: 0.9030 - val_loss: 0.4028 - val_acc: 0.8246\n",
      "Epoch 7/30\n",
      "938/938 [==============================] - 0s - loss: 0.2426 - acc: 0.9030 - val_loss: 0.3477 - val_acc: 0.8619\n",
      "Epoch 8/30\n",
      "938/938 [==============================] - 0s - loss: 0.2315 - acc: 0.8923 - val_loss: 0.3836 - val_acc: 0.8433\n",
      "Epoch 9/30\n",
      "938/938 [==============================] - 0s - loss: 0.1940 - acc: 0.9158 - val_loss: 0.3959 - val_acc: 0.8507\n",
      "Epoch 10/30\n",
      "938/938 [==============================] - 0s - loss: 0.1735 - acc: 0.9350 - val_loss: 0.4014 - val_acc: 0.8526\n",
      "Epoch 11/30\n",
      "938/938 [==============================] - 0s - loss: 0.1601 - acc: 0.9307 - val_loss: 0.4382 - val_acc: 0.8619\n",
      "Epoch 12/30\n",
      "938/938 [==============================] - 0s - loss: 0.1417 - acc: 0.9510 - val_loss: 0.3981 - val_acc: 0.8675\n",
      "Epoch 13/30\n",
      "938/938 [==============================] - 0s - loss: 0.1144 - acc: 0.9627 - val_loss: 0.4506 - val_acc: 0.8340\n",
      "Epoch 14/30\n",
      "938/938 [==============================] - 0s - loss: 0.0974 - acc: 0.9648 - val_loss: 0.5681 - val_acc: 0.8358\n",
      "Epoch 15/30\n",
      "938/938 [==============================] - 0s - loss: 0.0867 - acc: 0.9744 - val_loss: 0.4627 - val_acc: 0.8974\n",
      "Epoch 16/30\n",
      "938/938 [==============================] - 0s - loss: 0.0769 - acc: 0.9797 - val_loss: 0.5602 - val_acc: 0.8545\n",
      "Epoch 17/30\n",
      "938/938 [==============================] - 0s - loss: 0.0514 - acc: 0.9893 - val_loss: 0.5477 - val_acc: 0.8750\n",
      "Epoch 18/30\n",
      "938/938 [==============================] - 0s - loss: 0.0404 - acc: 0.9936 - val_loss: 0.6124 - val_acc: 0.8507\n",
      "Epoch 19/30\n",
      "938/938 [==============================] - 0s - loss: 0.0309 - acc: 0.9936 - val_loss: 0.6280 - val_acc: 0.8657\n",
      "Epoch 20/30\n",
      "938/938 [==============================] - 0s - loss: 0.0196 - acc: 0.9989 - val_loss: 0.7072 - val_acc: 0.8582\n",
      "Epoch 21/30\n",
      "938/938 [==============================] - 0s - loss: 0.0125 - acc: 0.9989 - val_loss: 0.7027 - val_acc: 0.8713\n",
      "Epoch 22/30\n",
      "938/938 [==============================] - 0s - loss: 0.0118 - acc: 1.0000 - val_loss: 0.6947 - val_acc: 0.8563\n",
      "Epoch 23/30\n",
      "938/938 [==============================] - 0s - loss: 0.0161 - acc: 0.9957 - val_loss: 0.7632 - val_acc: 0.8451\n",
      "Epoch 24/30\n",
      "938/938 [==============================] - 0s - loss: 0.0173 - acc: 0.9957 - val_loss: 0.9109 - val_acc: 0.8284\n",
      "Epoch 25/30\n",
      "938/938 [==============================] - 0s - loss: 0.0141 - acc: 0.9979 - val_loss: 0.6874 - val_acc: 0.8601\n",
      "Epoch 26/30\n",
      "938/938 [==============================] - 0s - loss: 0.0085 - acc: 0.9979 - val_loss: 0.9237 - val_acc: 0.8302\n",
      "Epoch 27/30\n",
      "938/938 [==============================] - 0s - loss: 0.0050 - acc: 1.0000 - val_loss: 0.8734 - val_acc: 0.8470\n",
      "Epoch 28/30\n",
      "938/938 [==============================] - 0s - loss: 0.0028 - acc: 1.0000 - val_loss: 0.8516 - val_acc: 0.8489\n",
      "Epoch 29/30\n",
      "938/938 [==============================] - 0s - loss: 0.0021 - acc: 1.0000 - val_loss: 0.8188 - val_acc: 0.8582\n",
      "Epoch 30/30\n",
      "938/938 [==============================] - 0s - loss: 0.0018 - acc: 1.0000 - val_loss: 0.9205 - val_acc: 0.8414\n"
     ]
    },
    {
     "data": {
      "text/plain": [
       "<keras.callbacks.History at 0x7f0a849e7588>"
      ]
     },
     "execution_count": 10,
     "metadata": {},
     "output_type": "execute_result"
    }
   ],
   "source": [
    "model.fit_generator(train_batches, samples_per_epoch=train_batches.nb_sample,\n",
    "                    nb_epoch=30,\n",
    "                    validation_data=val_batches,\n",
    "                    nb_val_samples=val_batches.nb_sample,\n",
    "                    verbose=True)"
   ]
  },
  {
   "cell_type": "code",
   "execution_count": 11,
   "metadata": {
    "collapsed": false
   },
   "outputs": [],
   "source": [
    "# model.save_weights('binary_86.h5')"
   ]
  },
  {
   "cell_type": "code",
   "execution_count": 12,
   "metadata": {
    "collapsed": false
   },
   "outputs": [
    {
     "data": {
      "text/plain": [
       "{'forward': 0, 'left': 1, 'right': 2}"
      ]
     },
     "execution_count": 12,
     "metadata": {},
     "output_type": "execute_result"
    }
   ],
   "source": [
    "train_batches.class_indices"
   ]
  },
  {
   "cell_type": "code",
   "execution_count": null,
   "metadata": {
    "collapsed": true
   },
   "outputs": [],
   "source": []
  }
 ],
 "metadata": {
  "anaconda-cloud": {},
  "kernelspec": {
   "display_name": "Python [conda env:deepLearning]",
   "language": "python",
   "name": "conda-env-deepLearning-py"
  },
  "language_info": {
   "codemirror_mode": {
    "name": "ipython",
    "version": 3
   },
   "file_extension": ".py",
   "mimetype": "text/x-python",
   "name": "python",
   "nbconvert_exporter": "python",
   "pygments_lexer": "ipython3",
   "version": "3.5.2"
  }
 },
 "nbformat": 4,
 "nbformat_minor": 1
}
