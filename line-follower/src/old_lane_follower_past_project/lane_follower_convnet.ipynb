{
 "cells": [
  {
   "cell_type": "markdown",
   "metadata": {},
   "source": [
    "# Lane Follower - CompRobo17"
   ]
  },
  {
   "cell_type": "markdown",
   "metadata": {},
   "source": [
    "## Imports and Directories"
   ]
  },
  {
   "cell_type": "code",
   "execution_count": 1,
   "metadata": {
    "collapsed": false
   },
   "outputs": [],
   "source": [
    "#Create references to important directories we will use over and over\n",
    "import os, sys\n",
    "current_dir = os.getcwd()\n",
    "SCRIPTS_HOME_DIR = current_dir\n",
    "DATA_HOME_DIR = current_dir+'/data'"
   ]
  },
  {
   "cell_type": "code",
   "execution_count": 2,
   "metadata": {
    "collapsed": false
   },
   "outputs": [
    {
     "name": "stderr",
     "output_type": "stream",
     "text": [
      "Using TensorFlow backend.\n"
     ]
    }
   ],
   "source": [
    "#import modules\n",
    "from matplotlib import pyplot as plt\n",
    "from keras.models import Sequential\n",
    "from keras.metrics import categorical_crossentropy, categorical_accuracy\n",
    "from keras.layers.convolutional import *\n",
    "from keras.preprocessing import image\n",
    "from keras.layers.core import Flatten, Dense\n",
    "from keras.optimizers import Adam\n",
    "import seaborn as sns\n",
    "%matplotlib inline"
   ]
  },
  {
   "cell_type": "code",
   "execution_count": 3,
   "metadata": {
    "collapsed": false
   },
   "outputs": [
    {
     "name": "stdout",
     "output_type": "stream",
     "text": [
      "/home/nathan/olin/spring2017/line-follower/line-follower/src/old_lane_follower_past_project/data\n"
     ]
    }
   ],
   "source": [
    "%cd $DATA_HOME_DIR\n",
    "\n",
    "#Set path to sample/ path if desired\n",
    "path = DATA_HOME_DIR\n",
    "train_path=path + '/train/color/'\n",
    "valid_path=path + '/valid/color/'"
   ]
  },
  {
   "cell_type": "markdown",
   "metadata": {},
   "source": [
    "## Convnet"
   ]
  },
  {
   "cell_type": "markdown",
   "metadata": {},
   "source": [
    "### Constants"
   ]
  },
  {
   "cell_type": "code",
   "execution_count": 4,
   "metadata": {
    "collapsed": true
   },
   "outputs": [],
   "source": [
    "img_rows, img_cols = 32, 32\n",
    "in_shape = (img_rows, img_cols)\n",
    "batch_size = 64\n",
    "nb_classes = 3"
   ]
  },
  {
   "cell_type": "markdown",
   "metadata": {},
   "source": [
    "### Batches"
   ]
  },
  {
   "cell_type": "code",
   "execution_count": 5,
   "metadata": {
    "collapsed": true
   },
   "outputs": [],
   "source": [
    "gen = image.ImageDataGenerator(\n",
    "                                rescale=1. / 255\n",
    "                              )"
   ]
  },
  {
   "cell_type": "code",
   "execution_count": 6,
   "metadata": {
    "collapsed": false
   },
   "outputs": [
    {
     "name": "stdout",
     "output_type": "stream",
     "text": [
      "Found 940 images belonging to 3 classes.\n",
      "Found 114 images belonging to 3 classes.\n"
     ]
    }
   ],
   "source": [
    "train_generator = gen.flow_from_directory(train_path, target_size=(32, 32), batch_size=32)\n",
    "valid_generator = gen.flow_from_directory(valid_path, target_size=(32, 32), batch_size=32)\n",
    "\n",
    "# get_batches(train_path, batch_size=batch_size, \n",
    "#                             target_size=in_shape, \n",
    "#                             gen=gen)\n",
    "# val_batches   = get_batches(valid_path, batch_size=batch_size, \n",
    "#                             target_size=in_shape, \n",
    "#                             gen=gen)"
   ]
  },
  {
   "cell_type": "code",
   "execution_count": 7,
   "metadata": {
    "collapsed": false
   },
   "outputs": [
    {
     "data": {
      "text/plain": [
       "(32, 32, 32, 3)"
      ]
     },
     "execution_count": 7,
     "metadata": {},
     "output_type": "execute_result"
    }
   ],
   "source": [
    "data, category = next(train_generator)\n",
    "data.shape"
   ]
  },
  {
   "cell_type": "markdown",
   "metadata": {},
   "source": [
    "### Model"
   ]
  },
  {
   "cell_type": "code",
   "execution_count": 8,
   "metadata": {
    "collapsed": true
   },
   "outputs": [],
   "source": [
    "def get_model():\n",
    "    model = Sequential([\n",
    "        Convolution2D(32,3,3, border_mode='same', activation='relu', input_shape=(32, 32, 3)),\n",
    "        MaxPooling2D(),\n",
    "        Convolution2D(64,3,3, border_mode='same', activation='relu'),\n",
    "        MaxPooling2D(),\n",
    "        Flatten(),\n",
    "        Dense(1024, activation='relu'),\n",
    "        Dense(nb_classes, activation='softmax')\n",
    "        ])\n",
    "    model.compile(Adam(), loss='categorical_crossentropy', metrics=['accuracy'])\n",
    "    return model"
   ]
  },
  {
   "cell_type": "code",
   "execution_count": 9,
   "metadata": {
    "collapsed": false
   },
   "outputs": [],
   "source": [
    "model = get_model()"
   ]
  },
  {
   "cell_type": "code",
   "execution_count": 10,
   "metadata": {
    "collapsed": false
   },
   "outputs": [
    {
     "name": "stdout",
     "output_type": "stream",
     "text": [
      "____________________________________________________________________________________________________\n",
      "Layer (type)                     Output Shape          Param #     Connected to                     \n",
      "====================================================================================================\n",
      "convolution2d_1 (Convolution2D)  (None, 32, 32, 32)    896         convolution2d_input_1[0][0]      \n",
      "____________________________________________________________________________________________________\n",
      "maxpooling2d_1 (MaxPooling2D)    (None, 16, 16, 32)    0           convolution2d_1[0][0]            \n",
      "____________________________________________________________________________________________________\n",
      "convolution2d_2 (Convolution2D)  (None, 16, 16, 64)    18496       maxpooling2d_1[0][0]             \n",
      "____________________________________________________________________________________________________\n",
      "maxpooling2d_2 (MaxPooling2D)    (None, 8, 8, 64)      0           convolution2d_2[0][0]            \n",
      "____________________________________________________________________________________________________\n",
      "flatten_1 (Flatten)              (None, 4096)          0           maxpooling2d_2[0][0]             \n",
      "____________________________________________________________________________________________________\n",
      "dense_1 (Dense)                  (None, 1024)          4195328     flatten_1[0][0]                  \n",
      "____________________________________________________________________________________________________\n",
      "dense_2 (Dense)                  (None, 3)             3075        dense_1[0][0]                    \n",
      "====================================================================================================\n",
      "Total params: 4,217,795\n",
      "Trainable params: 4,217,795\n",
      "Non-trainable params: 0\n",
      "____________________________________________________________________________________________________\n"
     ]
    }
   ],
   "source": [
    "model.summary()"
   ]
  },
  {
   "cell_type": "markdown",
   "metadata": {},
   "source": [
    "### Train"
   ]
  },
  {
   "cell_type": "code",
   "execution_count": 11,
   "metadata": {
    "collapsed": false
   },
   "outputs": [
    {
     "name": "stdout",
     "output_type": "stream",
     "text": [
      "Epoch 1/30\n",
      "940/940 [==============================] - 1s - loss: 0.5235 - acc: 0.8021 - val_loss: 1.3585 - val_acc: 0.5263\n",
      "Epoch 2/30\n",
      "940/940 [==============================] - 0s - loss: 0.3982 - acc: 0.8532 - val_loss: 1.1515 - val_acc: 0.4912\n",
      "Epoch 3/30\n",
      "940/940 [==============================] - 0s - loss: 0.3558 - acc: 0.8649 - val_loss: 1.1374 - val_acc: 0.5965\n",
      "Epoch 4/30\n",
      "940/940 [==============================] - 0s - loss: 0.3620 - acc: 0.8543 - val_loss: 0.8943 - val_acc: 0.6140\n",
      "Epoch 5/30\n",
      "940/940 [==============================] - 0s - loss: 0.3092 - acc: 0.8819 - val_loss: 1.4289 - val_acc: 0.4825\n",
      "Epoch 6/30\n",
      "940/940 [==============================] - 0s - loss: 0.3257 - acc: 0.8606 - val_loss: 0.6234 - val_acc: 0.6491\n",
      "Epoch 7/30\n",
      "940/940 [==============================] - 0s - loss: 0.3064 - acc: 0.8777 - val_loss: 0.8938 - val_acc: 0.6404\n",
      "Epoch 8/30\n",
      "940/940 [==============================] - 0s - loss: 0.2910 - acc: 0.8830 - val_loss: 1.5060 - val_acc: 0.5000\n",
      "Epoch 9/30\n",
      "940/940 [==============================] - 0s - loss: 0.3132 - acc: 0.8809 - val_loss: 0.8340 - val_acc: 0.6491\n",
      "Epoch 10/30\n",
      "940/940 [==============================] - 0s - loss: 0.2761 - acc: 0.9021 - val_loss: 0.8051 - val_acc: 0.6842\n",
      "Epoch 11/30\n",
      "940/940 [==============================] - 0s - loss: 0.2677 - acc: 0.8989 - val_loss: 0.8079 - val_acc: 0.6754\n",
      "Epoch 12/30\n",
      "940/940 [==============================] - 0s - loss: 0.2481 - acc: 0.9021 - val_loss: 0.9497 - val_acc: 0.6842\n",
      "Epoch 13/30\n",
      "940/940 [==============================] - 0s - loss: 0.2251 - acc: 0.9202 - val_loss: 0.8046 - val_acc: 0.6930\n",
      "Epoch 14/30\n",
      "940/940 [==============================] - 0s - loss: 0.2212 - acc: 0.9149 - val_loss: 0.5830 - val_acc: 0.8070\n",
      "Epoch 15/30\n",
      "940/940 [==============================] - 0s - loss: 0.2205 - acc: 0.9202 - val_loss: 0.9544 - val_acc: 0.6053\n",
      "Epoch 16/30\n",
      "940/940 [==============================] - 0s - loss: 0.1929 - acc: 0.9277 - val_loss: 1.0276 - val_acc: 0.6404\n",
      "Epoch 17/30\n",
      "940/940 [==============================] - 0s - loss: 0.1799 - acc: 0.9330 - val_loss: 1.1789 - val_acc: 0.5877\n",
      "Epoch 18/30\n",
      "940/940 [==============================] - 0s - loss: 0.1771 - acc: 0.9309 - val_loss: 1.0690 - val_acc: 0.6140\n",
      "Epoch 19/30\n",
      "940/940 [==============================] - 0s - loss: 0.1598 - acc: 0.9404 - val_loss: 1.5989 - val_acc: 0.5877\n",
      "Epoch 20/30\n",
      "940/940 [==============================] - 0s - loss: 0.1714 - acc: 0.9404 - val_loss: 1.3432 - val_acc: 0.6228\n",
      "Epoch 21/30\n",
      "940/940 [==============================] - 0s - loss: 0.1454 - acc: 0.9543 - val_loss: 1.2145 - val_acc: 0.6491\n",
      "Epoch 22/30\n",
      "940/940 [==============================] - 0s - loss: 0.1322 - acc: 0.9521 - val_loss: 1.3728 - val_acc: 0.6667\n",
      "Epoch 23/30\n",
      "940/940 [==============================] - 0s - loss: 0.1172 - acc: 0.9574 - val_loss: 1.2651 - val_acc: 0.6579\n",
      "Epoch 24/30\n",
      "940/940 [==============================] - 0s - loss: 0.1029 - acc: 0.9649 - val_loss: 1.1714 - val_acc: 0.7193\n",
      "Epoch 25/30\n",
      "940/940 [==============================] - 0s - loss: 0.0984 - acc: 0.9660 - val_loss: 1.4554 - val_acc: 0.6667\n",
      "Epoch 26/30\n",
      "940/940 [==============================] - 0s - loss: 0.0753 - acc: 0.9723 - val_loss: 1.2406 - val_acc: 0.7456\n",
      "Epoch 27/30\n",
      "940/940 [==============================] - 0s - loss: 0.1003 - acc: 0.9649 - val_loss: 1.1195 - val_acc: 0.7544\n",
      "Epoch 28/30\n",
      "940/940 [==============================] - 0s - loss: 0.0699 - acc: 0.9755 - val_loss: 1.4787 - val_acc: 0.6754\n",
      "Epoch 29/30\n",
      "940/940 [==============================] - 0s - loss: 0.0500 - acc: 0.9862 - val_loss: 1.1050 - val_acc: 0.7105\n",
      "Epoch 30/30\n",
      "940/940 [==============================] - 0s - loss: 0.0496 - acc: 0.9872 - val_loss: 1.6415 - val_acc: 0.7018\n"
     ]
    },
    {
     "data": {
      "text/plain": [
       "<keras.callbacks.History at 0x7f2187d16e48>"
      ]
     },
     "execution_count": 11,
     "metadata": {},
     "output_type": "execute_result"
    }
   ],
   "source": [
    "model.fit_generator(train_generator, \n",
    "                    samples_per_epoch=train_generator.nb_sample,\n",
    "                    nb_epoch=30,\n",
    "                    validation_data=valid_generator,\n",
    "                    nb_val_samples=valid_generator.nb_sample,\n",
    "                    verbose=True)"
   ]
  },
  {
   "cell_type": "code",
   "execution_count": 12,
   "metadata": {
    "collapsed": false
   },
   "outputs": [],
   "source": [
    "# model.save_weights('binary_86.h5')"
   ]
  },
  {
   "cell_type": "code",
   "execution_count": 13,
   "metadata": {
    "collapsed": false
   },
   "outputs": [
    {
     "ename": "NameError",
     "evalue": "name 'train_batches' is not defined",
     "output_type": "error",
     "traceback": [
      "\u001b[0;31m---------------------------------------------------------------------------\u001b[0m",
      "\u001b[0;31mNameError\u001b[0m                                 Traceback (most recent call last)",
      "\u001b[0;32m<ipython-input-13-10ddc5cd1129>\u001b[0m in \u001b[0;36m<module>\u001b[0;34m()\u001b[0m\n\u001b[0;32m----> 1\u001b[0;31m \u001b[0mtrain_batches\u001b[0m\u001b[0;34m.\u001b[0m\u001b[0mclass_indices\u001b[0m\u001b[0;34m\u001b[0m\u001b[0m\n\u001b[0m",
      "\u001b[0;31mNameError\u001b[0m: name 'train_batches' is not defined"
     ]
    }
   ],
   "source": [
    "train_batches.class_indices"
   ]
  },
  {
   "cell_type": "code",
   "execution_count": null,
   "metadata": {
    "collapsed": true
   },
   "outputs": [],
   "source": []
  }
 ],
 "metadata": {
  "anaconda-cloud": {},
  "kernelspec": {
   "display_name": "Python [conda env:deepLearning]",
   "language": "python",
   "name": "conda-env-deepLearning-py"
  },
  "language_info": {
   "codemirror_mode": {
    "name": "ipython",
    "version": 3
   },
   "file_extension": ".py",
   "mimetype": "text/x-python",
   "name": "python",
   "nbconvert_exporter": "python",
   "pygments_lexer": "ipython3",
   "version": "3.5.2"
  }
 },
 "nbformat": 4,
 "nbformat_minor": 1
}
