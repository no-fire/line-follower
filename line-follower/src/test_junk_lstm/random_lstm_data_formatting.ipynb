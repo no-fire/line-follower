{
 "cells": [
  {
   "cell_type": "markdown",
   "metadata": {
    "heading_collapsed": true
   },
   "source": [
    "## Imports"
   ]
  },
  {
   "cell_type": "code",
   "execution_count": 1,
   "metadata": {
    "collapsed": false,
    "hidden": true
   },
   "outputs": [
    {
     "name": "stderr",
     "output_type": "stream",
     "text": [
      "Using TensorFlow backend.\n"
     ]
    }
   ],
   "source": [
    "%matplotlib inline\n",
    "\n",
    "import seaborn as sns\n",
    "import numpy as np\n",
    "\n",
    "from keras.models import Sequential\n",
    "from keras.layers.core import Dense, Activation, Flatten, Dropout, Reshape\n",
    "from keras.layers.recurrent import LSTM\n",
    "from keras.layers import Convolution2D, MaxPooling2D"
   ]
  },
  {
   "cell_type": "markdown",
   "metadata": {
    "heading_collapsed": true
   },
   "source": [
    "## Constants"
   ]
  },
  {
   "cell_type": "code",
   "execution_count": 2,
   "metadata": {
    "collapsed": true,
    "hidden": true
   },
   "outputs": [],
   "source": [
    "img_rows, img_cols = 28, 28\n",
    "in_shape = (img_rows, img_cols, 1)\n",
    "batch_size = 256\n",
    "nb_epoch = 3"
   ]
  },
  {
   "cell_type": "markdown",
   "metadata": {},
   "source": [
    "## Data"
   ]
  },
  {
   "cell_type": "code",
   "execution_count": null,
   "metadata": {
    "collapsed": true
   },
   "outputs": [],
   "source": [
    "X_train = \n",
    "Y_train ="
   ]
  },
  {
   "cell_type": "markdown",
   "metadata": {
    "heading_collapsed": true,
    "hidden": true
   },
   "source": [
    "## Train Data"
   ]
  },
  {
   "cell_type": "code",
   "execution_count": 3,
   "metadata": {
    "collapsed": false,
    "hidden": true
   },
   "outputs": [
    {
     "data": {
      "text/plain": [
       "<matplotlib.axes._subplots.AxesSubplot at 0x7f25ef49a518>"
      ]
     },
     "execution_count": 3,
     "metadata": {},
     "output_type": "execute_result"
    },
    {
     "data": {
      "image/png": "[encoded data removed]",
      "text/plain": [
       "<matplotlib.figure.Figure at 0x7f25f30cbeb8>"
      ]
     },
     "metadata": {},
     "output_type": "display_data"
    }
   ],
   "source": [
    "X_train = np.random.rand(10000, 28, 28, 1)\n",
    "sns.heatmap(X_train[0].reshape(28, 28), cmap='gray')"
   ]
  },
  {
   "cell_type": "code",
   "execution_count": 4,
   "metadata": {
    "collapsed": false,
    "hidden": true
   },
   "outputs": [
    {
     "data": {
      "text/plain": [
       "array([ 0.29179925])"
      ]
     },
     "execution_count": 4,
     "metadata": {},
     "output_type": "execute_result"
    }
   ],
   "source": [
    "Y_train = np.random.rand(10000, 1)\n",
    "Y_train[0]"
   ]
  },
  {
   "cell_type": "markdown",
   "metadata": {
    "heading_collapsed": true,
    "hidden": true
   },
   "source": [
    "## Test Data"
   ]
  },
  {
   "cell_type": "code",
   "execution_count": 5,
   "metadata": {
    "collapsed": true,
    "hidden": true
   },
   "outputs": [],
   "source": [
    "X_test = np.random.rand(1024, 28, 28, 1)"
   ]
  },
  {
   "cell_type": "markdown",
   "metadata": {},
   "source": [
    "# Model"
   ]
  },
  {
   "cell_type": "code",
   "execution_count": 23,
   "metadata": {
    "collapsed": false
   },
   "outputs": [
    {
     "name": "stdout",
     "output_type": "stream",
     "text": [
      "____________________________________________________________________________________________________\n",
      "Layer (type)                     Output Shape          Param #     Connected to                     \n",
      "====================================================================================================\n",
      "convolution2d_22 (Convolution2D) (None, 28, 28, 32)    320         convolution2d_input_8[0][0]      \n",
      "____________________________________________________________________________________________________\n",
      "maxpooling2d_22 (MaxPooling2D)   (None, 14, 14, 32)    0           convolution2d_22[0][0]           \n",
      "____________________________________________________________________________________________________\n",
      "convolution2d_23 (Convolution2D) (None, 14, 14, 64)    18496       maxpooling2d_22[0][0]            \n",
      "____________________________________________________________________________________________________\n",
      "maxpooling2d_23 (MaxPooling2D)   (None, 7, 7, 64)      0           convolution2d_23[0][0]           \n",
      "____________________________________________________________________________________________________\n",
      "convolution2d_24 (Convolution2D) (None, 7, 7, 128)     73856       maxpooling2d_23[0][0]            \n",
      "____________________________________________________________________________________________________\n",
      "maxpooling2d_24 (MaxPooling2D)   (None, 3, 3, 128)     0           convolution2d_24[0][0]           \n",
      "____________________________________________________________________________________________________\n",
      "flatten_8 (Flatten)              (None, 1152)          0           maxpooling2d_24[0][0]            \n",
      "====================================================================================================\n",
      "Total params: 92,672\n",
      "Trainable params: 92,672\n",
      "Non-trainable params: 0\n",
      "____________________________________________________________________________________________________\n"
     ]
    }
   ],
   "source": [
    "model = Sequential()\n",
    "model.add(Convolution2D(32, 3, 3, border_mode='same', activation='relu', input_shape=in_shape))\n",
    "model.add(MaxPooling2D(pool_size=(2, 2)))\n",
    "model.add(Convolution2D(64, 3, 3, border_mode='same', activation='relu'))\n",
    "model.add(MaxPooling2D(pool_size=(2, 2)))\n",
    "model.add(Convolution2D(128, 3, 3, border_mode='same', activation='relu'))\n",
    "model.add(MaxPooling2D(pool_size=(2, 2)))\n",
    "model.add(Flatten())\n",
    "model.summary()"
   ]
  },
  {
   "cell_type": "code",
   "execution_count": 24,
   "metadata": {
    "collapsed": false
   },
   "outputs": [
    {
     "name": "stdout",
     "output_type": "stream",
     "text": [
      "____________________________________________________________________________________________________\n",
      "Layer (type)                     Output Shape          Param #     Connected to                     \n",
      "====================================================================================================\n",
      "convolution2d_22 (Convolution2D) (None, 28, 28, 32)    320         convolution2d_input_8[0][0]      \n",
      "____________________________________________________________________________________________________\n",
      "maxpooling2d_22 (MaxPooling2D)   (None, 14, 14, 32)    0           convolution2d_22[0][0]           \n",
      "____________________________________________________________________________________________________\n",
      "convolution2d_23 (Convolution2D) (None, 14, 14, 64)    18496       maxpooling2d_22[0][0]            \n",
      "____________________________________________________________________________________________________\n",
      "maxpooling2d_23 (MaxPooling2D)   (None, 7, 7, 64)      0           convolution2d_23[0][0]           \n",
      "____________________________________________________________________________________________________\n",
      "convolution2d_24 (Convolution2D) (None, 7, 7, 128)     73856       maxpooling2d_23[0][0]            \n",
      "____________________________________________________________________________________________________\n",
      "maxpooling2d_24 (MaxPooling2D)   (None, 3, 3, 128)     0           convolution2d_24[0][0]           \n",
      "____________________________________________________________________________________________________\n",
      "flatten_8 (Flatten)              (None, 1152)          0           maxpooling2d_24[0][0]            \n",
      "____________________________________________________________________________________________________\n",
      "reshape_9 (Reshape)              (None, 1, 1152)       0           flatten_8[0][0]                  \n",
      "____________________________________________________________________________________________________\n",
      "lstm_7 (LSTM)                    (None, 100)           501200      reshape_9[0][0]                  \n",
      "____________________________________________________________________________________________________\n",
      "dense_5 (Dense)                  (None, 1)             101         lstm_7[0][0]                     \n",
      "====================================================================================================\n",
      "Total params: 593,973\n",
      "Trainable params: 593,973\n",
      "Non-trainable params: 0\n",
      "____________________________________________________________________________________________________\n"
     ]
    }
   ],
   "source": [
    "model.add(Reshape((1, -1)))\n",
    "model.add(LSTM(100))\n",
    "model.add(Dense(1, activation='sigmoid'))\n",
    "model.compile(loss='mean_squared_error', optimizer='adam')\n",
    "model.summary()"
   ]
  },
  {
   "cell_type": "markdown",
   "metadata": {},
   "source": [
    "## Train model\n",
    "I think it is just learning to output .5 to minimize loss as we are using completely random training data"
   ]
  },
  {
   "cell_type": "code",
   "execution_count": 25,
   "metadata": {
    "collapsed": false
   },
   "outputs": [
    {
     "name": "stdout",
     "output_type": "stream",
     "text": [
      "Epoch 1/100\n",
      "10000/10000 [==============================] - 0s - loss: 0.0848     \n",
      "Epoch 2/100\n",
      "10000/10000 [==============================] - 0s - loss: 0.0847     \n",
      "Epoch 3/100\n",
      "10000/10000 [==============================] - 0s - loss: 0.0847     \n",
      "Epoch 4/100\n",
      "10000/10000 [==============================] - 0s - loss: 0.0847     \n",
      "Epoch 5/100\n",
      "10000/10000 [==============================] - 0s - loss: 0.0846     \n",
      "Epoch 6/100\n",
      "10000/10000 [==============================] - 0s - loss: 0.0845     \n",
      "Epoch 7/100\n",
      "10000/10000 [==============================] - 0s - loss: 0.0839     \n",
      "Epoch 8/100\n",
      "10000/10000 [==============================] - 0s - loss: 0.0815     \n",
      "Epoch 9/100\n",
      "10000/10000 [==============================] - 0s - loss: 0.0785     \n",
      "Epoch 10/100\n",
      "10000/10000 [==============================] - 0s - loss: 0.0719     \n",
      "Epoch 11/100\n",
      "10000/10000 [==============================] - 0s - loss: 0.0646     \n",
      "Epoch 12/100\n",
      "10000/10000 [==============================] - 0s - loss: 0.0565     \n",
      "Epoch 13/100\n",
      "10000/10000 [==============================] - 0s - loss: 0.0495     \n",
      "Epoch 14/100\n",
      "10000/10000 [==============================] - 0s - loss: 0.0425     \n",
      "Epoch 15/100\n",
      "10000/10000 [==============================] - 0s - loss: 0.0365     \n",
      "Epoch 16/100\n",
      "10000/10000 [==============================] - 0s - loss: 0.0303     \n",
      "Epoch 17/100\n",
      "10000/10000 [==============================] - 0s - loss: 0.0248     \n",
      "Epoch 18/100\n",
      "10000/10000 [==============================] - 0s - loss: 0.0215     \n",
      "Epoch 19/100\n",
      "10000/10000 [==============================] - 0s - loss: 0.0175     \n",
      "Epoch 20/100\n",
      "10000/10000 [==============================] - 0s - loss: 0.0159     \n",
      "Epoch 21/100\n",
      "10000/10000 [==============================] - 0s - loss: 0.0136     \n",
      "Epoch 22/100\n",
      "10000/10000 [==============================] - 0s - loss: 0.0105     \n",
      "Epoch 23/100\n",
      "10000/10000 [==============================] - 0s - loss: 0.0091     \n",
      "Epoch 24/100\n",
      "10000/10000 [==============================] - 0s - loss: 0.0080     \n",
      "Epoch 25/100\n",
      "10000/10000 [==============================] - 0s - loss: 0.0073     \n",
      "Epoch 26/100\n",
      "10000/10000 [==============================] - 0s - loss: 0.0063     \n",
      "Epoch 27/100\n",
      "10000/10000 [==============================] - 0s - loss: 0.0050     \n",
      "Epoch 28/100\n",
      "10000/10000 [==============================] - 0s - loss: 0.0041     \n",
      "Epoch 29/100\n",
      "10000/10000 [==============================] - 0s - loss: 0.0035     \n",
      "Epoch 30/100\n",
      "10000/10000 [==============================] - 0s - loss: 0.0032     \n",
      "Epoch 31/100\n",
      "10000/10000 [==============================] - 0s - loss: 0.0029     \n",
      "Epoch 32/100\n",
      "10000/10000 [==============================] - 0s - loss: 0.0028     \n",
      "Epoch 33/100\n",
      "10000/10000 [==============================] - 0s - loss: 0.0023     \n",
      "Epoch 34/100\n",
      "10000/10000 [==============================] - 0s - loss: 0.0022     \n",
      "Epoch 35/100\n",
      "10000/10000 [==============================] - 0s - loss: 0.0023     \n",
      "Epoch 36/100\n",
      "10000/10000 [==============================] - 0s - loss: 0.0019     \n",
      "Epoch 37/100\n",
      "10000/10000 [==============================] - 0s - loss: 0.0021     \n",
      "Epoch 38/100\n",
      "10000/10000 [==============================] - 0s - loss: 0.0021     \n",
      "Epoch 39/100\n",
      "10000/10000 [==============================] - 0s - loss: 0.0018     \n",
      "Epoch 40/100\n",
      "10000/10000 [==============================] - 0s - loss: 0.0020     \n",
      "Epoch 41/100\n",
      "10000/10000 [==============================] - 0s - loss: 0.0019     \n",
      "Epoch 42/100\n",
      "10000/10000 [==============================] - 0s - loss: 0.0021     \n",
      "Epoch 43/100\n",
      "10000/10000 [==============================] - 0s - loss: 0.0029     \n",
      "Epoch 44/100\n",
      "10000/10000 [==============================] - 0s - loss: 0.0034     \n",
      "Epoch 45/100\n",
      "10000/10000 [==============================] - 0s - loss: 0.0032     \n",
      "Epoch 46/100\n",
      "10000/10000 [==============================] - 0s - loss: 0.0030     \n",
      "Epoch 47/100\n",
      "10000/10000 [==============================] - 0s - loss: 0.0023     \n",
      "Epoch 48/100\n",
      "10000/10000 [==============================] - 0s - loss: 0.0023     \n",
      "Epoch 49/100\n",
      "10000/10000 [==============================] - 0s - loss: 0.0025     \n",
      "Epoch 50/100\n",
      "10000/10000 [==============================] - 0s - loss: 0.0023     \n",
      "Epoch 51/100\n",
      "10000/10000 [==============================] - 0s - loss: 0.0020     \n",
      "Epoch 52/100\n",
      "10000/10000 [==============================] - 0s - loss: 0.0017     \n",
      "Epoch 53/100\n",
      "10000/10000 [==============================] - 0s - loss: 0.0016     \n",
      "Epoch 54/100\n",
      "10000/10000 [==============================] - 0s - loss: 0.0013     \n",
      "Epoch 55/100\n",
      "10000/10000 [==============================] - 0s - loss: 0.0014     \n",
      "Epoch 56/100\n",
      "10000/10000 [==============================] - 0s - loss: 0.0016     \n",
      "Epoch 57/100\n",
      "10000/10000 [==============================] - 0s - loss: 0.0017     \n",
      "Epoch 58/100\n",
      "10000/10000 [==============================] - 0s - loss: 0.0022     \n",
      "Epoch 59/100\n",
      "10000/10000 [==============================] - 0s - loss: 0.0025     \n",
      "Epoch 60/100\n",
      "10000/10000 [==============================] - 0s - loss: 0.0036     \n",
      "Epoch 61/100\n",
      "10000/10000 [==============================] - 0s - loss: 0.0033     \n",
      "Epoch 62/100\n",
      "10000/10000 [==============================] - 0s - loss: 0.0025     \n",
      "Epoch 63/100\n",
      "10000/10000 [==============================] - 0s - loss: 0.0020     \n",
      "Epoch 64/100\n",
      "10000/10000 [==============================] - 0s - loss: 0.0017     \n",
      "Epoch 65/100\n",
      "10000/10000 [==============================] - 0s - loss: 0.0014     \n",
      "Epoch 66/100\n",
      "10000/10000 [==============================] - 0s - loss: 0.0014     \n",
      "Epoch 67/100\n",
      "10000/10000 [==============================] - 0s - loss: 0.0016     \n",
      "Epoch 68/100\n",
      "10000/10000 [==============================] - 0s - loss: 0.0014     \n",
      "Epoch 69/100\n",
      "10000/10000 [==============================] - 0s - loss: 0.0013     \n",
      "Epoch 70/100\n",
      "10000/10000 [==============================] - 0s - loss: 0.0014     \n",
      "Epoch 71/100\n",
      "10000/10000 [==============================] - 0s - loss: 0.0016     \n",
      "Epoch 72/100\n",
      "10000/10000 [==============================] - 0s - loss: 0.0016     \n",
      "Epoch 73/100\n",
      "10000/10000 [==============================] - 0s - loss: 0.0018     \n",
      "Epoch 74/100\n",
      "10000/10000 [==============================] - 0s - loss: 0.0018     \n",
      "Epoch 75/100\n",
      "10000/10000 [==============================] - 0s - loss: 0.0021     \n",
      "Epoch 76/100\n",
      "10000/10000 [==============================] - 0s - loss: 0.0022     \n",
      "Epoch 77/100\n",
      "10000/10000 [==============================] - 0s - loss: 0.0019     \n",
      "Epoch 78/100\n",
      "10000/10000 [==============================] - 0s - loss: 0.0019     \n",
      "Epoch 79/100\n",
      "10000/10000 [==============================] - 0s - loss: 0.0027     \n",
      "Epoch 80/100\n",
      "10000/10000 [==============================] - 0s - loss: 0.0025     \n",
      "Epoch 81/100\n",
      "10000/10000 [==============================] - 0s - loss: 0.0024     \n",
      "Epoch 82/100\n",
      "10000/10000 [==============================] - 0s - loss: 0.0030     \n",
      "Epoch 83/100\n",
      "10000/10000 [==============================] - 0s - loss: 0.0027     \n",
      "Epoch 84/100\n",
      "10000/10000 [==============================] - 0s - loss: 0.0022     \n",
      "Epoch 85/100\n",
      "10000/10000 [==============================] - 0s - loss: 0.0024     \n",
      "Epoch 86/100\n",
      "10000/10000 [==============================] - 0s - loss: 0.0020     \n",
      "Epoch 87/100\n",
      "10000/10000 [==============================] - 0s - loss: 0.0019     \n",
      "Epoch 88/100\n",
      "10000/10000 [==============================] - 0s - loss: 0.0018     \n",
      "Epoch 89/100\n",
      "10000/10000 [==============================] - 0s - loss: 0.0030     \n",
      "Epoch 90/100\n",
      "10000/10000 [==============================] - 0s - loss: 0.0032     \n",
      "Epoch 91/100\n",
      "10000/10000 [==============================] - 0s - loss: 0.0035     \n",
      "Epoch 92/100\n",
      "10000/10000 [==============================] - 0s - loss: 0.0028     \n",
      "Epoch 93/100\n",
      "10000/10000 [==============================] - 0s - loss: 0.0020     \n",
      "Epoch 94/100\n",
      "10000/10000 [==============================] - 0s - loss: 0.0020     \n",
      "Epoch 95/100\n",
      "10000/10000 [==============================] - 0s - loss: 0.0028     \n",
      "Epoch 96/100\n",
      "10000/10000 [==============================] - 0s - loss: 0.0021     \n",
      "Epoch 97/100\n",
      "10000/10000 [==============================] - 0s - loss: 0.0017     \n",
      "Epoch 98/100\n",
      "10000/10000 [==============================] - 0s - loss: 0.0015     \n",
      "Epoch 99/100\n",
      "10000/10000 [==============================] - 0s - loss: 0.0013     \n",
      "Epoch 100/100\n",
      "10000/10000 [==============================] - 0s - loss: 0.0011     \n"
     ]
    },
    {
     "data": {
      "text/plain": [
       "<keras.callbacks.History at 0x7f259824e320>"
      ]
     },
     "execution_count": 25,
     "metadata": {},
     "output_type": "execute_result"
    }
   ],
   "source": [
    "model.fit(X_train, Y_train, # specify training data\n",
    "          batch_size=batch_size, # use this many images per mini-batch - memory dependent - 256\n",
    "          nb_epoch=100, # go through my training data this number of times - 3\n",
    "          verbose=True # please print things \n",
    "         )"
   ]
  },
  {
   "cell_type": "code",
   "execution_count": null,
   "metadata": {
    "collapsed": true
   },
   "outputs": [],
   "source": []
  }
 ],
 "metadata": {
  "anaconda-cloud": {},
  "kernelspec": {
   "display_name": "Python deep learning",
   "language": "python",
   "name": "deeplearning"
  },
  "language_info": {
   "codemirror_mode": {
    "name": "ipython",
    "version": 3
   },
   "file_extension": ".py",
   "mimetype": "text/x-python",
   "name": "python",
   "nbconvert_exporter": "python",
   "pygments_lexer": "ipython3",
   "version": "3.5.2"
  }
 },
 "nbformat": 4,
 "nbformat_minor": 1
}
